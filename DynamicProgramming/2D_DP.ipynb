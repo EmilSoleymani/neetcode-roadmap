{
 "cells": [
  {
   "cell_type": "markdown",
   "id": "83dfaa3b",
   "metadata": {},
   "source": [
    "# 2D Dynamic Programming\n",
    "\n",
    "Solutions to Leetcode problems that use 2D dynamic programming."
   ]
  },
  {
   "cell_type": "code",
   "execution_count": 9,
   "id": "b6e52bc1",
   "metadata": {},
   "outputs": [],
   "source": [
    "from typing import List"
   ]
  },
  {
   "cell_type": "markdown",
   "id": "3ccecd0c",
   "metadata": {},
   "source": [
    "# Problem One: Unique Paths (Medium)\n",
    "\n",
    "[Leetcode #62](https://leetcode.com/problems/unique-paths/)\n",
    "\n",
    "- `dp[i][j]` represents the number of unique paths to cell i,j\n",
    "- `dp[0][0]` is 1 (starting square)\n",
    "- For each cell i, j:\n",
    "    - if cell to left exists, add number of unique paths of cell to the left to number of unique paths to this cell\n",
    "    - if cell above exists, add number of unique paths of cell to the cell above to number of unique paths to this cell\n",
    "- Return number of unique paths to finish cell"
   ]
  },
  {
   "cell_type": "code",
   "execution_count": 1,
   "id": "040ed2b6",
   "metadata": {},
   "outputs": [],
   "source": [
    "def uniquePaths(m: int, n: int) -> int:\n",
    "        dp = [[0] * n for i in range(m)]\n",
    "        \n",
    "        dp[0][0] = 1\n",
    "\n",
    "        for i in range(m):\n",
    "            for j in range(n):\n",
    "                if i > 0:\n",
    "                    dp[i][j] += dp[i-1][j]\n",
    "                if j > 0:\n",
    "                    dp[i][j] += dp[i][j-1]\n",
    "        \n",
    "        return dp[-1][-1]"
   ]
  },
  {
   "cell_type": "code",
   "execution_count": 3,
   "id": "1efe34ee",
   "metadata": {},
   "outputs": [
    {
     "data": {
      "text/plain": [
       "11844267374132633700"
      ]
     },
     "execution_count": 3,
     "metadata": {},
     "output_type": "execute_result"
    }
   ],
   "source": [
    "assert uniquePaths(5, 5) == 70\n",
    "uniquePaths(50, 25)"
   ]
  },
  {
   "cell_type": "markdown",
   "id": "57cc76e5",
   "metadata": {},
   "source": [
    "# Problem Two: Longest Common Subsequence (Medium)\n",
    "\n",
    "[Leetcode #1143](https://leetcode.com/problems/longest-common-subsequence/)\n",
    "\n",
    "Fill `dp` with `0`s. Add an extra row and column at the end. Starting from the bottom right (not counting extra row and column), for each cell `(i,j)`:\n",
    "\n",
    "- If the letters are the same (i.e. `text2[i] == text1[j]`), then `dp[i][j]` is the one plus the value to the bottom right (`dp[i+1][j+1]`)\n",
    "\n",
    "- Else `dp[i][j]` is the max of the right and bottom cells (`max(dp[i+1][j], dp[i][j+1])`)\n",
    "\n",
    "Return `dp[0][0]`"
   ]
  },
  {
   "cell_type": "code",
   "execution_count": 6,
   "id": "1a8f2c18",
   "metadata": {},
   "outputs": [],
   "source": [
    "def longestCommonSubsequence(text1: str, text2: str) -> int:\n",
    "        n, m = len(text1), len(text2)\n",
    "\n",
    "        dp = [[0] * (n+1) for i in range(m+1)]\n",
    "\n",
    "        for i in range(m - 1, -1, -1):\n",
    "            for j in range(n - 1, -1, -1):\n",
    "                if text2[i] == text1[j]:\n",
    "                    dp[i][j] = dp[i+1][j+1] + 1\n",
    "                else:\n",
    "                    dp[i][j] = max(dp[i+1][j], dp[i][j+1])\n",
    "\n",
    "        return dp[0][0]"
   ]
  },
  {
   "cell_type": "code",
   "execution_count": 7,
   "id": "3a183e0e",
   "metadata": {},
   "outputs": [],
   "source": [
    "assert longestCommonSubsequence('abcde', 'ace') == 3"
   ]
  },
  {
   "cell_type": "markdown",
   "id": "3e518731",
   "metadata": {},
   "source": [
    "# Problem Three: Best TIme to Buy and Sell Stock With Cooldown (Medium)\n",
    "\n",
    "[Leetcode #309](https://leetcode.com/problems/best-time-to-buy-and-sell-stock-with-cooldown/)\n",
    "\n",
    "Use DP with **caching**. `dp` is our cache and the key is `(i, buying)`. `dp[(i, buying)]` stores the max profit we can make on day `i` with buying state `buying` (this is a boolean). If we are buying, the max profit we can achieve is the max profit of tommorow (`i+1`) where we are NOT buying (`!buying`) minus the cost of buying the stock (`prices[i]`). However we also have the option of not doing anything and moving on to the next day (cooldown, `buying` stays the same). Choose the option with better profit. Else if we are not buying, the max profit we can achieve is the max profit of two days ahead since there is a one day cooldown (`i+2`) when we are buying (`!buying`) plus the cost of selling of the stock today (`prices[i]`). However we also have the option of not doing anything and moving on to the next day (cooldown, `buying` stays the same). Choose the option with better profit."
   ]
  },
  {
   "cell_type": "code",
   "execution_count": 10,
   "id": "9fac9bcf",
   "metadata": {},
   "outputs": [],
   "source": [
    "def maxProfit(prices: List[int]) -> int:\n",
    "        # Initialize DP cache\n",
    "        # The key is going to be (i, buying), the value is maxProfit for this state\n",
    "        dp = {}\n",
    "\n",
    "        # Define recursive function\n",
    "        def dfs(i, buying):\n",
    "            # Base Case 1: Out of bounds\n",
    "            if i >= len(prices):\n",
    "                return 0\n",
    "            \n",
    "            # Base Case 2: We have already cached the result\n",
    "            if (i, buying) in dp:\n",
    "                return dp[(i, buying)]\n",
    "            \n",
    "            # Get the max profit of not changing state (i.e. not selling if we bought, not buying if we haven't bought)\n",
    "            cooldown = dfs(i+1, buying)\n",
    "\n",
    "            if buying:\n",
    "                # If we are buying, get the max profit from buying today\n",
    "                buy = dfs(i + 1, not buying) - prices[i]\n",
    "\n",
    "                # Set dp[(i, buying)] to max of the options buy and cooldown\n",
    "                dp[(i, buying)] = max(buy, cooldown)\n",
    "            else:\n",
    "                # If we are selling, get the max profit from selling today\n",
    "                # We skip two days forward since after selling the next day is cooldown\n",
    "                sell = dfs(i + 2, not buying) + prices[i]\n",
    "\n",
    "                # Set dp[(i, buying)] to max of the options sell and cooldown\n",
    "                dp[(i, buying)] = max(sell, cooldown)\n",
    "            \n",
    "            return dp[(i, buying)]\n",
    "        \n",
    "        return dfs(0, True)"
   ]
  },
  {
   "cell_type": "code",
   "execution_count": 11,
   "id": "f3f469b5",
   "metadata": {},
   "outputs": [
    {
     "data": {
      "text/plain": [
       "3"
      ]
     },
     "execution_count": 11,
     "metadata": {},
     "output_type": "execute_result"
    }
   ],
   "source": [
    "maxProfit([1,2,3,0,2])"
   ]
  },
  {
   "cell_type": "markdown",
   "id": "4e9dd3e3",
   "metadata": {},
   "source": [
    "# Problem Four: Coin Change II (Medium)\n",
    "\n",
    "[Leetcode #518](https://leetcode.com/problems/coin-change-ii/)\n",
    "\n",
    "Keep 2D DP array. Rows represent each coin, columns represent `[0, amount]`. The `0` column is filled with ones as there is only 1 way to make `0` coins. Fill each cell `(i, j)` with the sum of the cell `coins[i]` indices to the right (if it is in bounds) and the cell below (if it is in bounds).\n",
    "\n",
    "Memory optimized solution: Instead of storing each row, we just need one row at a time. Since we were always adding the value of the row below, just build the initial row into a 1D DP array, and keep adding on top of it for each new row. The time complexity is still `O(M*N)` where there are `M` coins and amount is `N`, but the space complexity is only `O(N)` instead of `O(M*N)`."
   ]
  },
  {
   "cell_type": "code",
   "execution_count": 12,
   "id": "42024ce4",
   "metadata": {},
   "outputs": [],
   "source": [
    "def change(amount: int, coins: List[int]) -> int:\n",
    "        dp = [0] * (amount  + 1)\n",
    "        dp[0] = 1  # 1 way to make amount 0\n",
    "\n",
    "        for coin in coins:  # Loop through all coins\n",
    "            for i in range(1, amount + 1):\n",
    "                if i - coin >= 0:  # If coin doesn't overshoot the current target amount, i\n",
    "                    dp[i] += dp[i - coin]  # Add the number of ways to make amount i - coin\n",
    "                    # Only need one DP array, since we keep adding on top of this one row\n",
    "    \n",
    "        return dp[-1]"
   ]
  }
 ],
 "metadata": {
  "kernelspec": {
   "display_name": "Python 3 (ipykernel)",
   "language": "python",
   "name": "python3"
  },
  "language_info": {
   "codemirror_mode": {
    "name": "ipython",
    "version": 3
   },
   "file_extension": ".py",
   "mimetype": "text/x-python",
   "name": "python",
   "nbconvert_exporter": "python",
   "pygments_lexer": "ipython3",
   "version": "3.8.0"
  }
 },
 "nbformat": 4,
 "nbformat_minor": 5
}
