{
 "cells": [
  {
   "cell_type": "markdown",
   "id": "58981215",
   "metadata": {},
   "source": [
    "# 1D Dynamic Programming\n",
    "\n",
    "Solutions to dp problems with a 1d dp array"
   ]
  },
  {
   "cell_type": "code",
   "execution_count": 7,
   "id": "137ff677",
   "metadata": {},
   "outputs": [],
   "source": [
    "from typing import List"
   ]
  },
  {
   "cell_type": "markdown",
   "id": "e56f5f1a",
   "metadata": {},
   "source": [
    "# Problem One: Climbing Stair (Easy)\n",
    "\n",
    "[Leetcode #70](https://leetcode.com/problems/climbing-stairs/)\n",
    "\n",
    "The number of steps to the `nth` stair is just the `nth` fibonacci number. Use bottom-up method (tabulation) to build dp array"
   ]
  },
  {
   "cell_type": "code",
   "execution_count": 3,
   "id": "2e20ed3d",
   "metadata": {},
   "outputs": [],
   "source": [
    "def climbStairs(n: int) -> int:\n",
    "        dp = [0] * (n+1)\n",
    "\n",
    "        dp[0] = 1\n",
    "        dp[1] = 1\n",
    "\n",
    "        for i in range(2, n+1):\n",
    "            dp[i] = dp[i-1] + dp[i-2]\n",
    "        \n",
    "        return dp[n]"
   ]
  },
  {
   "cell_type": "code",
   "execution_count": 5,
   "id": "717b9121",
   "metadata": {},
   "outputs": [
    {
     "data": {
      "text/plain": [
       "8"
      ]
     },
     "execution_count": 5,
     "metadata": {},
     "output_type": "execute_result"
    }
   ],
   "source": [
    "climbStairs(5)"
   ]
  },
  {
   "cell_type": "markdown",
   "id": "56a65bca",
   "metadata": {},
   "source": [
    "# Problem Two: Min Cost Climbing Stair (Easy)\n",
    "\n",
    "[Leetcode #746](https://leetcode.com/problems/min-cost-climbing-stairs/)\n",
    "\n",
    "The min cost to get to the first two steps is just the cost of those steps. From then on, the cost to step `n` is `min(cost[n-1], cost[n-2]) + cost[n]`. Note that the list `cost` doesn't include the last step, which we will count to have `0` associated cost."
   ]
  },
  {
   "cell_type": "code",
   "execution_count": 17,
   "id": "1cfb5ac5",
   "metadata": {},
   "outputs": [],
   "source": [
    "def minCostClimbingStairs(cost: List[int]) -> int:\n",
    "        n = len(cost)\n",
    "        dp = [0] * (n+1)\n",
    "\n",
    "        dp[0] = cost[0]\n",
    "        dp[1] = cost[1]\n",
    "\n",
    "        for i in range(2, n+1):\n",
    "            c = cost[i] if i < n else 0\n",
    "            dp[i] = min(dp[i-1], dp[i-2]) + c\n",
    "        \n",
    "        return dp[n]"
   ]
  },
  {
   "cell_type": "code",
   "execution_count": 19,
   "id": "70e7df79",
   "metadata": {},
   "outputs": [],
   "source": [
    "assert minCostClimbingStairs([10, 15, 20]) == 15"
   ]
  },
  {
   "cell_type": "markdown",
   "id": "1d703d0c",
   "metadata": {},
   "source": [
    "# Problem Three: House Robber (Medium)\n",
    "\n",
    "[Leetcode #198](https://leetcode.com/problems/house-robber/)\n",
    "\n",
    "## My Solution\n",
    "\n",
    "- Keep DP array. `dp[0] = nums[0]`, `dp[1] = max(nums[0], nums[1])`. The reason for `dp[1]` is because it depends which of the first two houses we rob\n",
    "\n",
    "- After second house, the maximum money after `n` houses is `max(dp[n-2]+nums[n],  dp[n-1])` (i.e. if we make more money robbing this house and two houses before, do that, else just rob the previous house)\n",
    "\n",
    "- Deal with edge case where the length of the array is less than 2"
   ]
  },
  {
   "cell_type": "code",
   "execution_count": 26,
   "id": "c2b54e54",
   "metadata": {},
   "outputs": [],
   "source": [
    "def rob(nums: List[int]) -> int:\n",
    "        dp = [0] * len(nums)\n",
    "\n",
    "        if len(nums) < 2:\n",
    "            return nums[0]\n",
    "\n",
    "        dp[0] = nums[0]\n",
    "        dp[1] = max(nums[1], nums[0])\n",
    "\n",
    "        for i in range(2, len(nums)):\n",
    "            dp[i] = max(dp[i-2] + nums[i], dp[i-1])\n",
    "        \n",
    "        return dp[-1]"
   ]
  },
  {
   "cell_type": "code",
   "execution_count": 27,
   "id": "6d9ac60d",
   "metadata": {},
   "outputs": [],
   "source": [
    "assert rob([2,1,1,2]) == 4\n",
    "assert rob([1,2,3,1]) == 4"
   ]
  },
  {
   "cell_type": "markdown",
   "id": "ad0b6a6a",
   "metadata": {},
   "source": [
    "## Neetcode Solution (Better)\n",
    "\n",
    "Essentially same concept, but no wasted space on `dp` array, just two variables rob1 and rob2"
   ]
  },
  {
   "cell_type": "code",
   "execution_count": 23,
   "id": "ec51ef6c",
   "metadata": {},
   "outputs": [],
   "source": [
    "def rob_optimal(nums: List[int]) -> int:\n",
    "        rob1, rob2 = 0, 0\n",
    "        \n",
    "        for n in nums:\n",
    "            t = max(rob1+n, rob2)\n",
    "            rob1 = rob2\n",
    "            rob2 = t\n",
    "        \n",
    "        return rob2"
   ]
  },
  {
   "cell_type": "code",
   "execution_count": 28,
   "id": "c0535bcb",
   "metadata": {},
   "outputs": [],
   "source": [
    "assert rob_optimal([2,1,1,2]) == 4\n",
    "assert rob_optimal([1,2,3,1]) == 4"
   ]
  },
  {
   "cell_type": "markdown",
   "id": "1953f84d",
   "metadata": {},
   "source": [
    "# Problem Four: House Robber II (Medium)\n",
    "\n",
    "[Leetcode #213](https://leetcode.com/problems/house-robber-ii/)\n",
    "\n",
    "Essentially same as **problem three**. Just check the max of not including the first or not including the last."
   ]
  },
  {
   "cell_type": "code",
   "execution_count": 29,
   "id": "7de38cbc",
   "metadata": {},
   "outputs": [],
   "source": [
    "def rob2(nums: List[int]) -> int:\n",
    "        def helper(nums: List[int]) -> int:\n",
    "            dp = [0] * len(nums)\n",
    "\n",
    "            if len(nums) == 1:\n",
    "                return nums[0]\n",
    "            \n",
    "            dp[0], dp[1] = nums[0], max(nums[0], nums[1])\n",
    "\n",
    "            for i in range(2, len(nums)):\n",
    "                dp[i] = max(dp[i-2]+nums[i], dp[i-1])\n",
    "            \n",
    "            return dp[-1]\n",
    "        \n",
    "        if len(nums) == 1:\n",
    "                return nums[0]\n",
    "        \n",
    "        return max(helper(nums[:-1]), helper(nums[1:]))"
   ]
  },
  {
   "cell_type": "code",
   "execution_count": 31,
   "id": "f31d4188",
   "metadata": {},
   "outputs": [],
   "source": [
    "assert rob2([2, 3, 2]) == 3"
   ]
  },
  {
   "cell_type": "markdown",
   "id": "b3bcd1cc",
   "metadata": {},
   "source": [
    "# Problem Five: Longest Palindromic Substring (Medium)\n",
    "\n",
    "[Leetcode #5](https://leetcode.com/problems/longest-palindromic-substring/)\n",
    "\n",
    "Store `dp`table. `dp[i][j]` is `True` if `s[i:j+1]` is a palindrome, else `False`. Start by filling all diagonals of `dp` with True, since all length 1 substrings are palindromes. Ignore bottom half of diagonal, these are invalid slices (e.g. `s[3:1]`). Any substring `s[i:j+1]` is a palindrome if `s[i] == s[j]` and `s[i+1:j]` is a palindrome (which is the value at `dp[i+1][j-1]`. There is a special case: Strings of length two just need to satsify `s[i] == s[j]`. \n",
    "\n",
    "- Start `i` from bottom row and go up\n",
    "    - Start `j` from `i+1` to end of table\n",
    "        - if `s[i] == s[j]`\n",
    "            - if length of string is two (special case), i.e. `j-1 == 1` OR `dp[i+1][j-1] == True`\n",
    "                - Set `dp[i][j]` to true\n",
    "                - Update longest palindrome if neccessary"
   ]
  },
  {
   "cell_type": "code",
   "execution_count": 32,
   "id": "25b78b28",
   "metadata": {},
   "outputs": [],
   "source": [
    "def longestPalindrome(s: str) -> str:\n",
    "        # Longest palindrome seen so far\n",
    "        longest = s[0]\n",
    "\n",
    "        # dp[i][j] stores whether s[i:j+1] is a palindrome\n",
    "        dp = [[False]*len(s) for i in range(len(s))]  # Initialize dp table\n",
    "\n",
    "        # Set all diagonals (strings of length 1) to true since they are palindromes\n",
    "        for i in range(len(s)):\n",
    "            dp[i][i] = True\n",
    "        \n",
    "        # Loop all rows of table from bottom to top\n",
    "        for i in range(len(s)-1, -1, -1):\n",
    "            # Loop all columns from diagonal to end\n",
    "            for j in range(i+1, len(s)):\n",
    "                # If string of length 2 (j-i == 1) and s[i] == s[j]\n",
    "                # Or s[i+1:j] is palindrome (this is stored in dp[i+1][j-1]) and s[i] == s[j]\n",
    "                # Then dp[i][j] == True since s[i:j+1] is a palindrome.\n",
    "                \n",
    "                if s[i] == s[j]:  # Both conditions require s[i] == s[j]\n",
    "                    if j-i == 1 or dp[i+1][j-1]:  # If either is satisfied\n",
    "                        dp[i][j] = True  # s[i:j+1] is a palindrome\n",
    "                        \n",
    "                        # Check if we have to update longest palindrome\n",
    "                        curr = s[i:j+1]\n",
    "                        if len(curr) > len(longest):\n",
    "                            longest = curr\n",
    "        \n",
    "        return longest"
   ]
  },
  {
   "cell_type": "code",
   "execution_count": 36,
   "id": "6b50334a",
   "metadata": {},
   "outputs": [],
   "source": [
    "assert longestPalindrome('babad') == 'aba'\n",
    "assert longestPalindrome('racecar') == 'racecar'"
   ]
  },
  {
   "cell_type": "markdown",
   "id": "29a63aba",
   "metadata": {},
   "source": [
    "# Problem Six: Palindromic Substrings (Medium)\n",
    "\n",
    "[Leetcode #647](https://leetcode.com/problems/palindromic-substrings/)\n",
    "\n",
    "Same as **problem five**, except we add one to counter when we find a palindrome instead ofupdating longest palindrome."
   ]
  },
  {
   "cell_type": "code",
   "execution_count": 37,
   "id": "8d7626ef",
   "metadata": {},
   "outputs": [],
   "source": [
    "def countSubstrings(s: str) -> int:\n",
    "        n = len(s)\n",
    "        palindromes = n\n",
    "        dp = [[False] * n for i in range(n)]\n",
    "\n",
    "        for i in range(n):\n",
    "            dp[i][i] = True\n",
    "        \n",
    "        for i in range(n-1, -1, -1):\n",
    "            for j in range(i+1, n):\n",
    "                if s[i] == s[j]:\n",
    "                    if j-i == 1 or dp[i+1][j-1]:\n",
    "                        dp[i][j] = True\n",
    "                        palindromes += 1\n",
    "        \n",
    "        return palindromes"
   ]
  },
  {
   "cell_type": "markdown",
   "id": "987728af",
   "metadata": {},
   "source": [
    "# Problem Seven: Decode Ways (Medium)\n",
    "\n",
    "[Leetcode #91](https://leetcode.com/problems/decode-ways/)\n",
    "\n",
    "**Key concept**:\n",
    "- If the digit is not `0`, then the number of ways is the same as number of ways of substring to the right\n",
    "- If the combination of this digit and the digit to the right create integer `x`, and `1 <= x <= 26`, then add the number of ways of the substring two digits to the right to the current number of ways\n",
    "- If the digit is `0` current number of ways is `0`\n",
    "\n",
    "Create a `dp` array one larger than `s`, and set the last element to `1`, which will be used as a base case. For each index, follow the logic described in the concept. Return `dp[0]`.\n",
    "\n",
    "\n",
    "> Note: I think Leetcode is missing a test case. E.g. input `1606` should result in `0` (or any test case where there is a `0` in the middle (or end) which is preceded by a digit larger than `2`). There is no way to split the string so that there is no `0` (notice `60` is not valid). However, there is no such test case."
   ]
  },
  {
   "cell_type": "code",
   "execution_count": 38,
   "id": "15381444",
   "metadata": {},
   "outputs": [],
   "source": [
    "def numDecodings(s: str) -> int:\n",
    "        # Initialize dp array to all 0\n",
    "        dp = [0] * (len(s) + 1)\n",
    "        \n",
    "        # The last element is base case. When we check the index len(s) - 1, if it is not '0' we will look to the right.\n",
    "        # Make sure value to the right is 1\n",
    "        dp[-1] = 1\n",
    "\n",
    "        for i in range(len(s) - 1, -1, -1):\n",
    "            if s[i] == '0':  # A leading zero will not contribute anything\n",
    "                dp[i] = 0\n",
    "            else:  # Else, we can at least add one to the number of ways we saw one step to the right\n",
    "                dp[i] = dp[i+1]\n",
    "            \n",
    "            # Now we have to check if this digit, s[i], and the digit to the right, s[i+1] make a valid int between 1 and 26\n",
    "            # Also check if there is a digit to the right\n",
    "            if i < len(s) -1 and (s[i] == '1' or (s[i] == '2' and int(s[i+1]) < 7)):\n",
    "                dp[i] += dp[i + 2]  # If that is the case, consider all possible ways we saw two digits to the right\n",
    "        \n",
    "        # Return possible ways\n",
    "        return dp[0]"
   ]
  },
  {
   "cell_type": "markdown",
   "id": "bf8c6bbf",
   "metadata": {},
   "source": [
    "# Problem Eight: Coin Change (Medium)\n",
    "\n",
    "[Leetcode #322](https://leetcode.com/problems/coin-change/)\n",
    "\n",
    "- `dp[i]` represents minimum number of coins needed to make amount `i`\n",
    "- Initialize all `dp[i]` to `amount + 1` since this is an impossible number to get so we know when to return `-1`\n",
    "- Initialize `dp[0]` to `0`\n",
    "- For each amount, `dp[i]`:\n",
    "    - Loop through all coins starting at that amount. Update `dp[i]` to `min(dp[i], dp[i-coin])`. This will update the value only if we found a new minimum way to create the current amount\n",
    "- Return `dp[amount]` unless it was still `amount + 1`, in which case it should return `-1`"
   ]
  },
  {
   "cell_type": "code",
   "execution_count": 39,
   "id": "548c32ed",
   "metadata": {},
   "outputs": [],
   "source": [
    "def coinChange(coins: List[int], amount: int) -> int:\n",
    "        dp = [amount + 1] * (amount+1)\n",
    "\n",
    "        dp[0] = 0\n",
    "\n",
    "        for i in range(amount + 1):\n",
    "            for coin in coins:\n",
    "                if i < coin:\n",
    "                    continue\n",
    "                dp[i] = min(dp[i - coin] + 1, dp[i])\n",
    "        \n",
    "        return dp[amount] if not dp[amount] == amount + 1 else -1"
   ]
  },
  {
   "cell_type": "code",
   "execution_count": 42,
   "id": "5d8174d2",
   "metadata": {},
   "outputs": [],
   "source": [
    "assert coinChange([1, 2, 5], 11) == 3"
   ]
  },
  {
   "cell_type": "markdown",
   "id": "cd878346",
   "metadata": {},
   "source": [
    "# Problem Nine: Maximum Product Subarray (Medium)\n",
    "\n",
    "[Leetcode #152](https://leetcode.com/problems/maximum-product-subarray/)\n",
    "\n",
    "- The tricky part is dealing with negative. For this we want to store the maximum and minimum seen so far. Set each entry to the maximum of the current number, current number * max of previous numbers, current number * min of previours. Don't forget to update the min list as well.\n",
    "\n",
    "- Return the max of the list of max products"
   ]
  },
  {
   "cell_type": "code",
   "execution_count": 43,
   "id": "9226baf8",
   "metadata": {},
   "outputs": [],
   "source": [
    "def maxProduct(nums: List[int]) -> int:\n",
    "        n = len(nums)\n",
    "        \n",
    "        _max = [nums[0]] * n\n",
    "        _min = [nums[0]] * n\n",
    "\n",
    "        for i in range(1, n):\n",
    "            _max[i] = max(nums[i], nums[i]*_max[i-1], nums[i]*_min[i-1])\n",
    "            _min[i] = min(nums[i], nums[i]*_max[i-1], nums[i]*_min[i-1])\n",
    "        \n",
    "        return max(_max)"
   ]
  }
 ],
 "metadata": {
  "kernelspec": {
   "display_name": "Python 3 (ipykernel)",
   "language": "python",
   "name": "python3"
  },
  "language_info": {
   "codemirror_mode": {
    "name": "ipython",
    "version": 3
   },
   "file_extension": ".py",
   "mimetype": "text/x-python",
   "name": "python",
   "nbconvert_exporter": "python",
   "pygments_lexer": "ipython3",
   "version": "3.8.0"
  }
 },
 "nbformat": 4,
 "nbformat_minor": 5
}
