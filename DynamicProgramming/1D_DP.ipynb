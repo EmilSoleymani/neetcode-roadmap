{
 "cells": [
  {
   "cell_type": "markdown",
   "id": "b42bae4b",
   "metadata": {},
   "source": [
    "# 1D Dynamic Programming\n",
    "\n",
    "Solutions to dp problems with a 1d dp array"
   ]
  },
  {
   "cell_type": "markdown",
   "id": "c125ac8c",
   "metadata": {},
   "source": [
    "# Problem One: Climbing Stair (Easy)\n",
    "\n",
    "[Leetcode #70](https://leetcode.com/problems/climbing-stairs/)\n",
    "\n",
    "The number of steps to the `nth` stair is just the `nth` fibonacci number. Use bottom-up method (tabulation) to build dp array"
   ]
  },
  {
   "cell_type": "code",
   "execution_count": null,
   "id": "9a3975aa",
   "metadata": {},
   "outputs": [],
   "source": [
    "def climbStairs(self, n: int) -> int:\n",
    "        dp = [0] * (n+1)\n",
    "\n",
    "        dp[0] = 1\n",
    "        dp[1] = 1\n",
    "\n",
    "        for i in range(2, n+1):\n",
    "            dp[i] = dp[i-1] + dp[i-2]\n",
    "        \n",
    "        return dp[n]"
   ]
  }
 ],
 "metadata": {
  "kernelspec": {
   "display_name": "Python 3 (ipykernel)",
   "language": "python",
   "name": "python3"
  },
  "language_info": {
   "codemirror_mode": {
    "name": "ipython",
    "version": 3
   },
   "file_extension": ".py",
   "mimetype": "text/x-python",
   "name": "python",
   "nbconvert_exporter": "python",
   "pygments_lexer": "ipython3",
   "version": "3.8.0"
  }
 },
 "nbformat": 4,
 "nbformat_minor": 5
}
