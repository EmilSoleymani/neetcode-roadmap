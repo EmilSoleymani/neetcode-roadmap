{
 "cells": [
  {
   "cell_type": "markdown",
   "id": "f1b03bd8",
   "metadata": {},
   "source": [
    "# Trees\n",
    "\n",
    "Solutions to Leetcode problems that use trees"
   ]
  },
  {
   "cell_type": "code",
   "execution_count": 16,
   "id": "8b2ecb2c",
   "metadata": {},
   "outputs": [],
   "source": [
    "from typing import Optional, List\n",
    "\n",
    "class TreeNode:\n",
    "    def __init__(self, val=0, left=None, right=None):\n",
    "        self.val = val\n",
    "        self.left = left\n",
    "        self.right = right"
   ]
  },
  {
   "cell_type": "markdown",
   "id": "f401a0ad",
   "metadata": {},
   "source": [
    "# Problem One: Invert Binary Tree (Easy)\n",
    "\n",
    "[Leetcode #226](https://leetcode.com/problems/invert-binary-tree/)"
   ]
  },
  {
   "cell_type": "code",
   "execution_count": 2,
   "id": "1531a010",
   "metadata": {},
   "outputs": [],
   "source": [
    "def invertTree(root: Optional[TreeNode]) -> Optional[TreeNode]:\n",
    "        if not root:\n",
    "            return None\n",
    "        \n",
    "        root.left, root.right = invertTree(root.right), invertTree(root.left)\n",
    "        \n",
    "        return root"
   ]
  },
  {
   "cell_type": "code",
   "execution_count": 3,
   "id": "37af7950",
   "metadata": {},
   "outputs": [
    {
     "data": {
      "text/plain": [
       "<__main__.TreeNode at 0x7f90fa8b8880>"
      ]
     },
     "execution_count": 3,
     "metadata": {},
     "output_type": "execute_result"
    }
   ],
   "source": [
    "root = TreeNode(1, TreeNode(2), TreeNode(3))\n",
    "\n",
    "invertTree(root)"
   ]
  },
  {
   "cell_type": "markdown",
   "id": "d487004e",
   "metadata": {},
   "source": [
    "# Problem Two: Maximum Depth of Binary Tree (Easy)\n",
    "\n",
    "[Leetcode #104](https://leetcode.com/problems/maximum-depth-of-binary-tree/)"
   ]
  },
  {
   "cell_type": "code",
   "execution_count": 4,
   "id": "12a2c347",
   "metadata": {},
   "outputs": [],
   "source": [
    "def maxDepth(root: Optional[TreeNode]) -> int:\n",
    "        if not root:\n",
    "            return 0\n",
    "        \n",
    "        return max(maxDepth(root.left), maxDepth(root.right)) + 1"
   ]
  },
  {
   "cell_type": "code",
   "execution_count": 5,
   "id": "ca3c66eb",
   "metadata": {},
   "outputs": [
    {
     "data": {
      "text/plain": [
       "2"
      ]
     },
     "execution_count": 5,
     "metadata": {},
     "output_type": "execute_result"
    }
   ],
   "source": [
    "maxDepth(root)"
   ]
  },
  {
   "cell_type": "markdown",
   "id": "8fe941b8",
   "metadata": {},
   "source": [
    "# Problem Three: Diameter of Binary Tree (Easy)\n",
    "\n",
    "[Leetcode #543](https://leetcode.com/problems/diameter-of-binary-tree/description/)\n",
    "\n",
    "* Uses the `maxDepth()` function created in **Problem Two**\n",
    "\n",
    "Recursive function:\n",
    "\n",
    "* **Base Case**, `root` == null: return `0`\n",
    "* **Recursive Case**: \n",
    "    * Notice that a diameter we can create is the maximum depth to the right plus the maximum depth to the left\n",
    "    * Or recursively check the diameter found in left and right subtrees"
   ]
  },
  {
   "cell_type": "code",
   "execution_count": 6,
   "id": "70209b76",
   "metadata": {},
   "outputs": [],
   "source": [
    "def diameterOfBinaryTree(root: Optional[TreeNode]) -> int:\n",
    "    if not root:\n",
    "        return 0\n",
    "\n",
    "    return max([maxDepth(root.right) + maxDepth(root.left), diameterOfBinaryTree(root.left), diameterOfBinaryTree(root.right)])"
   ]
  },
  {
   "cell_type": "code",
   "execution_count": 7,
   "id": "e3b88472",
   "metadata": {},
   "outputs": [
    {
     "data": {
      "text/plain": [
       "2"
      ]
     },
     "execution_count": 7,
     "metadata": {},
     "output_type": "execute_result"
    }
   ],
   "source": [
    "diameterOfBinaryTree(root)"
   ]
  },
  {
   "cell_type": "markdown",
   "id": "4e6ca31b",
   "metadata": {},
   "source": [
    "# Problem Four: Balanced Binary Tree (Easy)\n",
    "\n",
    "[Leetcode #110](https://leetcode.com/problems/balanced-binary-tree/)\n",
    "\n",
    "- Uses the `maxDepth()` function created in **Problem Two**\n",
    "\n",
    "Recursive function:\n",
    "* **Base Case**, `root` == null, return `True`\n",
    "* **Recursive Case**:\n",
    "    * If `|maxDepth(root.right) - maxDepth(root.left)| > 1`, return `False`\n",
    "    * Else, recusrively check that left AND right tree are balanced"
   ]
  },
  {
   "cell_type": "code",
   "execution_count": 8,
   "id": "54eae473",
   "metadata": {},
   "outputs": [],
   "source": [
    "def isBalanced(root: Optional[TreeNode]) -> bool:\n",
    "        if not root:\n",
    "            return True\n",
    "        \n",
    "        if abs(maxDepth(root.left) - maxDepth(root.right)) > 1:\n",
    "            return False\n",
    "        \n",
    "        return isBalanced(root.right) and isBalanced(root.left)"
   ]
  },
  {
   "cell_type": "code",
   "execution_count": 9,
   "id": "aad06f56",
   "metadata": {},
   "outputs": [
    {
     "data": {
      "text/plain": [
       "True"
      ]
     },
     "execution_count": 9,
     "metadata": {},
     "output_type": "execute_result"
    }
   ],
   "source": [
    "isBalanced(root)"
   ]
  },
  {
   "cell_type": "markdown",
   "id": "f31f147e",
   "metadata": {},
   "source": [
    "# Problem Five: Same Tree (Easy)\n",
    "\n",
    "[Leetcode #100](https://leetcode.com/problems/same-tree/)\n",
    "\n",
    "* **Base case 1**: If `p` *and* `q` are both null, return `True`\n",
    "* **Base case 2**: If only one of `p` and `q` are null, return `False`\n",
    "* **Recursive Case**:\n",
    "    * Return true iff all are true:\n",
    "        * `p` and `q` store same value\n",
    "        * Recursive call to left subtrees returns `True`\n",
    "        * Recursive call to right subtrees returns `True`"
   ]
  },
  {
   "cell_type": "code",
   "execution_count": 10,
   "id": "306d2ebe",
   "metadata": {},
   "outputs": [],
   "source": [
    "def isSameTree(p: Optional[TreeNode], q: Optional[TreeNode]) -> bool:\n",
    "        # If both are None, return True\n",
    "        if not p and not q:\n",
    "            return True\n",
    "        \n",
    "        # If only one was None, return False\n",
    "        if not p or not q:\n",
    "            return False\n",
    "        \n",
    "        # Recursively call check to left and right subtrees and also compare values of current nodes\n",
    "        return p.val == q.val and isSameTree(p.left, q.left) and isSameTree(p.right, q.right)"
   ]
  },
  {
   "cell_type": "code",
   "execution_count": 11,
   "id": "e373ae11",
   "metadata": {},
   "outputs": [],
   "source": [
    "root1 = TreeNode(1, TreeNode(2), TreeNode(3))\n",
    "root2 = TreeNode(1, TreeNode(2), TreeNode(3))\n",
    "root3 = TreeNode(1, TreeNode(5), TreeNode(3))\n",
    "\n",
    "assert isSameTree(root1, root2)\n",
    "assert not isSameTree(root1, root3)"
   ]
  },
  {
   "cell_type": "markdown",
   "id": "0dd0e295",
   "metadata": {},
   "source": [
    "# Problem Six: Lowest Common Ancestor of a BST (Medium)\n",
    "\n",
    "\n",
    "[Leetcode #235](https://leetcode.com/problems/lowest-common-ancestor-of-a-binary-search-tree/)\n",
    "\n",
    "> In this problem, the tree is a **BST** meaning all left nodes are smaller than parent, all right nodes are larger than parent. This is a key property to exploit in solution\n",
    "\n",
    "Three cases:\n",
    "\n",
    "1. Both values are larger than current value. Search right subtree.\n",
    "2. Both values are less than current value. Search left subtree.\n",
    "3. One is less than or equal to current value and the other is greater than or equal to current value. Return the current node."
   ]
  },
  {
   "cell_type": "code",
   "execution_count": 12,
   "id": "791d2eee",
   "metadata": {},
   "outputs": [],
   "source": [
    "def lowestCommonAncestor(root: 'TreeNode', p: 'TreeNode', q: 'TreeNode') -> 'TreeNode':\n",
    "        curr = root\n",
    "\n",
    "        while curr:\n",
    "            if p.val > curr.val and q.val > curr.val:\n",
    "                curr = curr.right\n",
    "            elif p.val < curr.val and q.val < curr.val:\n",
    "                curr = curr.left\n",
    "            else:\n",
    "                return curr"
   ]
  },
  {
   "cell_type": "markdown",
   "id": "7fd5fc04",
   "metadata": {},
   "source": [
    "# Problem Seven: Binary Tree Level Order Traversal (Medium)\n",
    "\n",
    "[Leetcode #102](https://leetcode.com/problems/binary-tree-level-order-traversal/)\n",
    "\n",
    "Use a queue to perform BFS on tree"
   ]
  },
  {
   "cell_type": "code",
   "execution_count": 17,
   "id": "cbf5c8db",
   "metadata": {},
   "outputs": [],
   "source": [
    "def levelOrder(root: Optional[TreeNode]) -> List[List[int]]:\n",
    "        if not root:\n",
    "            return []\n",
    "\n",
    "        levels = []\n",
    "\n",
    "        q = [root]\n",
    "\n",
    "        while q:\n",
    "            level = []\n",
    "            qlen = len(q)\n",
    "\n",
    "            for i in range(qlen):\n",
    "                node = q.pop(0)\n",
    "                if node:\n",
    "                    level.append(node.val)\n",
    "                    q.append(node.left)\n",
    "                    q.append(node.right)\n",
    "            \n",
    "            if level:\n",
    "                levels.append(level)\n",
    "        \n",
    "        return levels"
   ]
  },
  {
   "cell_type": "markdown",
   "id": "4ef09a6a",
   "metadata": {},
   "source": [
    "# Problem Eight: Binary Tree Right Side View (Medium)\n",
    "\n",
    "[Leetcode #199](https://leetcode.com/problems/binary-tree-right-side-view/)\n",
    "\n",
    "\"Right side view\" means rightmost node at each level. So the solution is the same as **problem seven**, except you only want to add the rightmost node in level list (first in level list)."
   ]
  },
  {
   "cell_type": "code",
   "execution_count": 19,
   "id": "cbf6df3c",
   "metadata": {},
   "outputs": [],
   "source": [
    "def rightSideView(root: Optional[TreeNode]) -> List[int]:\n",
    "        if not root:\n",
    "            return []\n",
    "        \n",
    "        nodes, queue = [], [root]\n",
    "\n",
    "        while queue:\n",
    "            qlen = len(queue)\n",
    "            level = []\n",
    "\n",
    "            for i in range(qlen):\n",
    "                node = queue.pop(0)\n",
    "                if node:\n",
    "                    level.append(node.val)\n",
    "                    queue.append(node.right)\n",
    "                    queue.append(node.left)\n",
    "            \n",
    "            if level:\n",
    "                nodes.append(level[0])  # Only append level[0] instead of the whole list\n",
    "        \n",
    "        return nodes"
   ]
  },
  {
   "cell_type": "markdown",
   "id": "800a099b",
   "metadata": {},
   "source": [
    "# Problem Nine: Count Good Nodes in Binary Tree (Medium)\n",
    "\n",
    "[Leetcode #1448](https://leetcode.com/problems/count-good-nodes-in-binary-tree/)\n",
    "\n",
    "Keep track of maximum value seen so far on a path. If the current node value is less than or equal to max, this is a good node so return 1 + # of good nodes in subtrees, else just return # of good nodes in subtrees. Base case for recursion is when the node is a null pointer, in which case `0` should be returned."
   ]
  },
  {
   "cell_type": "code",
   "execution_count": 21,
   "id": "6b9ce4c4",
   "metadata": {},
   "outputs": [],
   "source": [
    "def goodNodes(root: TreeNode) -> int:\n",
    "        return goodNodesRecursive(root, root.val)  # Call recursive function. Max value seen so far is the root value\n",
    "    \n",
    "def goodNodesRecursive(node: TreeNode, maxVal: int) -> int:\n",
    "    # If the node is a null pointer, it is not a good node\n",
    "    if not node:\n",
    "        return 0\n",
    "    \n",
    "    if maxVal > node.val:  # If there was a larger value from root to this node\n",
    "        # Just return the number of good nodes in subtrees. Do not update maxVal\n",
    "        return goodNodesRecursive(node.right, maxVal) + goodNodesRecursive(node.left, maxVal)\n",
    "    else:  # Else\n",
    "        maxVal = max(maxVal, node.val)  # Check if we found a new maxVal\n",
    "        # Return the number of good nodes in subtrees + 1 (thsi node)\n",
    "        return 1 + goodNodesRecursive(node.right, maxVal) + goodNodesRecursive(node.left, maxVal)"
   ]
  },
  {
   "cell_type": "markdown",
   "id": "bee98185",
   "metadata": {},
   "source": [
    "# Problem Ten: Validate Binary Search Tree (Medium)\n",
    "\n",
    "[Leetcode #98](https://leetcode.com/problems/validate-binary-search-tree/)\n",
    "\n",
    "Keep track of \"bounds\" that each nodes value must be within. Starts at `(-∞, ∞)`. When you go right, update the left bound to the node value, when you go left update the right value. Base case for recursion is when the node is a null pointer, in which case `True` should be returned."
   ]
  },
  {
   "cell_type": "code",
   "execution_count": 22,
   "id": "43934875",
   "metadata": {},
   "outputs": [],
   "source": [
    "def isValidBST(root: Optional[TreeNode]) -> bool:\n",
    "        \n",
    "        def valid(node, left, right):\n",
    "            if not node:\n",
    "                return True\n",
    "            \n",
    "            if not (node.val < right and node.val > left):\n",
    "                return False\n",
    "            \n",
    "            return valid(node.left, left, node.val) and valid(node.right, node.val, right)\n",
    "        \n",
    "        return valid(root, float(\"-inf\"), float(\"inf\"))"
   ]
  },
  {
   "cell_type": "markdown",
   "id": "9300934e",
   "metadata": {},
   "source": [
    "# Problem Eleven: Kth Smallest Element in a BST (Medium)\n",
    "\n",
    "[Leetcode #230](https://leetcode.com/problems/kth-smallest-element-in-a-bst/)\n",
    "\n",
    "**Key concept:** Inorder traversal until we see `k` elements.\n",
    "\n",
    "While current is not null or stack is not empty. Go left and add to stack until null pointer. Pop most recent and increment number visited. If this is the kth element visited, return the value of the node. Else, visit right node."
   ]
  },
  {
   "cell_type": "code",
   "execution_count": 23,
   "id": "81d54742",
   "metadata": {},
   "outputs": [],
   "source": [
    "def kthSmallest(root: Optional[TreeNode], k: int) -> int:\n",
    "        visited, stack = 0, []\n",
    "        curr = root\n",
    "\n",
    "        while curr or stack:\n",
    "            while curr:\n",
    "                stack.append(curr)\n",
    "                curr = curr.left\n",
    "            \n",
    "            curr = stack.pop()\n",
    "            visited += 1\n",
    "\n",
    "            if visited == k:\n",
    "                return curr.val\n",
    "            \n",
    "            curr = curr.right"
   ]
  },
  {
   "cell_type": "code",
   "execution_count": null,
   "id": "f26114eb",
   "metadata": {},
   "outputs": [],
   "source": []
  }
 ],
 "metadata": {
  "kernelspec": {
   "display_name": "Python 3 (ipykernel)",
   "language": "python",
   "name": "python3"
  },
  "language_info": {
   "codemirror_mode": {
    "name": "ipython",
    "version": 3
   },
   "file_extension": ".py",
   "mimetype": "text/x-python",
   "name": "python",
   "nbconvert_exporter": "python",
   "pygments_lexer": "ipython3",
   "version": "3.8.0"
  }
 },
 "nbformat": 4,
 "nbformat_minor": 5
}
