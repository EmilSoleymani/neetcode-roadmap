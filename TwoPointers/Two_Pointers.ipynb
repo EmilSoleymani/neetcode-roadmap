{
 "cells": [
  {
   "cell_type": "markdown",
   "id": "168648bb",
   "metadata": {},
   "source": [
    "# Two Pointers\n",
    "\n",
    "Solutions to two pointer Leetcode problems"
   ]
  },
  {
   "cell_type": "code",
   "execution_count": 1,
   "id": "8fa29b20",
   "metadata": {},
   "outputs": [],
   "source": [
    "from typing import List"
   ]
  },
  {
   "cell_type": "markdown",
   "id": "26c9635c",
   "metadata": {},
   "source": [
    "# Problem One: Valid Palindrome (Easy)\n",
    "\n",
    "[Leetcode #125](https://leetcode.com/problems/valid-palindrome/)"
   ]
  },
  {
   "cell_type": "code",
   "execution_count": 2,
   "id": "6b632dfe",
   "metadata": {},
   "outputs": [],
   "source": [
    "def isPalindrome(s: str) -> bool:\n",
    "        s = s.lower()\n",
    "        \n",
    "        left, right = 0, len(s) - 1\n",
    "\n",
    "        # increment left to next alphanumeric char\n",
    "        while not s[left].isalnum() and left < right:\n",
    "            left += 1\n",
    "        # decrement right to next alphanumeric char\n",
    "        while not s[right].isalnum() and left < right:\n",
    "            right -= 1\n",
    "\n",
    "        while left < right:\n",
    "            # check if char at left and right are equal\n",
    "            if not s[left] == s[right]:\n",
    "                return False\n",
    "\n",
    "            left += 1\n",
    "            right -= 1\n",
    "\n",
    "            # increment left to next alphanumeric char\n",
    "            while not s[left].isalnum() and left < right:\n",
    "                left += 1\n",
    "            # decrement right to next alphanumeric char\n",
    "            while not s[right].isalnum() and left < right:\n",
    "                right -= 1\n",
    "        \n",
    "        return True\n",
    "            "
   ]
  },
  {
   "cell_type": "code",
   "execution_count": 3,
   "id": "43ba27ea",
   "metadata": {},
   "outputs": [
    {
     "data": {
      "text/plain": [
       "True"
      ]
     },
     "execution_count": 3,
     "metadata": {},
     "output_type": "execute_result"
    }
   ],
   "source": [
    "isPalindrome(\"A man, a plan, a canal: Panama\")"
   ]
  },
  {
   "cell_type": "markdown",
   "id": "28386fb4",
   "metadata": {},
   "source": [
    "# Problem Two: Two Sum II (Medium)\n",
    "\n",
    "[Leetcode #167](https://leetcode.com/problems/two-sum-ii-input-array-is-sorted/)"
   ]
  },
  {
   "cell_type": "code",
   "execution_count": 6,
   "id": "8733a58b",
   "metadata": {},
   "outputs": [],
   "source": [
    "def twoSum(numbers: List[int], target: int) -> List[int]:\n",
    "        left, right = 0, len(numbers) - 1\n",
    "\n",
    "        while left < right:\n",
    "            s = numbers[left] + numbers[right]\n",
    "\n",
    "            if s == target:\n",
    "                return [left + 1, right + 1]\n",
    "            elif s > target:\n",
    "                right -= 1\n",
    "            else:\n",
    "                left += 1\n",
    "        \n",
    "        return None"
   ]
  },
  {
   "cell_type": "code",
   "execution_count": 7,
   "id": "afddbf85",
   "metadata": {},
   "outputs": [
    {
     "data": {
      "text/plain": [
       "[1, 2]"
      ]
     },
     "execution_count": 7,
     "metadata": {},
     "output_type": "execute_result"
    }
   ],
   "source": [
    "twoSum([2,7,11,15], 9)"
   ]
  },
  {
   "cell_type": "markdown",
   "id": "91b99b1f",
   "metadata": {},
   "source": [
    "# Problem Three: Three Sum (Medium)\n",
    "\n",
    "[Leetcode #15]()\n",
    "\n",
    "> Beats 90.71% in runtime, 69.64% in memory"
   ]
  },
  {
   "cell_type": "code",
   "execution_count": 11,
   "id": "a9385472",
   "metadata": {},
   "outputs": [],
   "source": [
    "def twoSum(nums, pivot, triplets):\n",
    "        left, right = pivot + 1, len(nums) - 1\n",
    "\n",
    "        while left < right:\n",
    "            s = nums[pivot] + nums[left] + nums[right]\n",
    "\n",
    "            if s == 0:\n",
    "                triplets.append([nums[pivot], nums[left], nums[right]])\n",
    "                left += 1\n",
    "                right -= 1\n",
    "                while nums[left] == nums[left-1] and left < right:\n",
    "                    left += 1\n",
    "            elif s > 0:\n",
    "                right -= 1\n",
    "            else:\n",
    "                left += 1\n",
    "\n",
    "def threeSum(nums: List[int]) -> List[List[int]]:\n",
    "    triplets = []\n",
    "    nums.sort()\n",
    "\n",
    "    for i in range(len(nums)):\n",
    "        if nums[i] > 0:\n",
    "            break\n",
    "        if i == 0 or not nums[i] == nums[i-1]:\n",
    "            twoSum(nums, i, triplets)\n",
    "\n",
    "    return triplets"
   ]
  },
  {
   "cell_type": "code",
   "execution_count": 13,
   "id": "df823963",
   "metadata": {},
   "outputs": [
    {
     "data": {
      "text/plain": [
       "[[-1, -1, 2], [-1, 0, 1]]"
      ]
     },
     "execution_count": 13,
     "metadata": {},
     "output_type": "execute_result"
    }
   ],
   "source": [
    "threeSum([-1, -1, 0, 1, 2])"
   ]
  },
  {
   "cell_type": "markdown",
   "id": "5a243349",
   "metadata": {},
   "source": [
    "# Problem Four: Max Area (Medium)\n",
    "\n",
    "[Leetcode #11](https://leetcode.com/problems/container-with-most-water)\n",
    "\n",
    "Start with left and right pointers spread out (max possible area). Move pointer that has lower height."
   ]
  },
  {
   "cell_type": "code",
   "execution_count": 14,
   "id": "6a20c342",
   "metadata": {},
   "outputs": [],
   "source": [
    "def maxArea(height: List[int]) -> int:\n",
    "        left, right = 0, len(height) - 1\n",
    "\n",
    "        maxA = 0\n",
    "\n",
    "        while left < right:\n",
    "            a = min(height[left], height[right]) * (right-left)\n",
    "            maxA = max(maxA, a)\n",
    "\n",
    "            if height[left] < height[right]:\n",
    "                left += 1\n",
    "            else:\n",
    "                right -= 1\n",
    "        \n",
    "        return maxA"
   ]
  },
  {
   "cell_type": "code",
   "execution_count": 15,
   "id": "c19cdf5e",
   "metadata": {},
   "outputs": [
    {
     "data": {
      "text/plain": [
       "49"
      ]
     },
     "execution_count": 15,
     "metadata": {},
     "output_type": "execute_result"
    }
   ],
   "source": [
    "maxArea([1,8,6,2,5,4,8,3,7])"
   ]
  },
  {
   "cell_type": "markdown",
   "id": "ebd40cf9",
   "metadata": {},
   "source": [
    "# Problem Five: Trapping Rain Water (Hard)\n",
    "\n",
    "[Leetcode #42](https://leetcode.com/problems/trapping-rain-water)\n",
    "\n",
    "## Solution One - O(N) Space, O(N) Time\n",
    "\n",
    "Calculate max height to the left and max height to the right of each index. The amount of water than can be trapped at each index `i` is `min(maxLeft, maxRight) - height[i]`. Calculate `maxLeft` values but store in `traps` array. While calculating `maxRight` values, compare with existing `traps` values (which are the `maxLeft` values) and update where needed. Now subtract `height[i]` for each index in `traps`. We now have the amount of water that can be trapped at each index. Sum the array to get the final answer."
   ]
  },
  {
   "cell_type": "code",
   "execution_count": 16,
   "id": "b9dbca88",
   "metadata": {},
   "outputs": [],
   "source": [
    "def trap(height: List[int]) -> int:\n",
    "        traps = []\n",
    "        maxLeft = 0\n",
    "        for h in height:\n",
    "            if h > maxLeft:\n",
    "                maxLeft = h\n",
    "            traps.append(maxLeft)\n",
    "        \n",
    "        maxRight = 0\n",
    "        for i in range(len(height) - 1, 0, -1):\n",
    "            if height[i] > maxRight:\n",
    "                maxRight = height[i]\n",
    "            traps[i] = min(traps[i], maxRight)\n",
    "        \n",
    "        traps = [traps[i] - height[i] for i in range(len(height))]\n",
    "\n",
    "        return sum(traps)"
   ]
  },
  {
   "cell_type": "markdown",
   "id": "acd543f0",
   "metadata": {},
   "source": [
    "## Solution Two - O(1) Space, O(N) Time\n",
    "\n",
    "Uses *two pointers*. Start `left` and `right` at opposite ends. Set `maxLeft` and `maxRight` values to `height[left]` and `height[right]`. Initialize `trapped` to `0`. If `maxLeft` < `maxRight`, add `max(maxLeft - height[left], 0)` to `trapped` (the call to `max` ensures negative numbers are rounded to 0). Increment `left`, update `maxLeft` if neccessary. Else, add `max(maxRight - height[right], 0)` to `trapped`. Stop when `left >= right`."
   ]
  },
  {
   "cell_type": "code",
   "execution_count": 17,
   "id": "40782c5d",
   "metadata": {},
   "outputs": [],
   "source": [
    "def trap_constantSpace(height: List[int]) -> int:\n",
    "        if not height:\n",
    "            return 0\n",
    "\n",
    "        trapped = 0\n",
    "        left, right = 0, len(height) - 1\n",
    "        maxLeft, maxRight = height[left], height[right]\n",
    "\n",
    "        while left < right:\n",
    "            if maxLeft < maxRight:\n",
    "                trapped += max(maxLeft - height[left], 0)\n",
    "                left += 1\n",
    "                maxLeft = max(height[left], maxLeft)\n",
    "            else:\n",
    "                trapped += max(maxRight - height[right], 0)\n",
    "                right -= 1\n",
    "                maxRight = max(height[right], maxRight)\n",
    "        \n",
    "        return trapped"
   ]
  }
 ],
 "metadata": {
  "kernelspec": {
   "display_name": "Python 3 (ipykernel)",
   "language": "python",
   "name": "python3"
  },
  "language_info": {
   "codemirror_mode": {
    "name": "ipython",
    "version": 3
   },
   "file_extension": ".py",
   "mimetype": "text/x-python",
   "name": "python",
   "nbconvert_exporter": "python",
   "pygments_lexer": "ipython3",
   "version": "3.8.0"
  }
 },
 "nbformat": 4,
 "nbformat_minor": 5
}
