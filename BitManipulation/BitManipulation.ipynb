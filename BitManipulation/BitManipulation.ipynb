{
 "cells": [
  {
   "cell_type": "markdown",
   "id": "8362b412",
   "metadata": {},
   "source": [
    "# Bit Manipulation\n",
    "\n",
    "Solutions to Leetcode problems that require bit manipulation"
   ]
  },
  {
   "cell_type": "code",
   "execution_count": 1,
   "id": "345cac9e",
   "metadata": {},
   "outputs": [],
   "source": [
    "from typing import List"
   ]
  },
  {
   "cell_type": "markdown",
   "id": "c796b2b2",
   "metadata": {},
   "source": [
    "# Problem One: Single Number (Easy)\n",
    "\n",
    "[Leetcode #136](https://leetcode.com/problems/single-number/)\n",
    "\n",
    "Just XOR all numbers"
   ]
  },
  {
   "cell_type": "code",
   "execution_count": 2,
   "id": "1121ac72",
   "metadata": {},
   "outputs": [],
   "source": [
    "def singleNumber(nums: List[int]) -> int:\n",
    "        res = 0\n",
    "\n",
    "        for n in nums:\n",
    "            res ^= n\n",
    "        \n",
    "        return res"
   ]
  },
  {
   "cell_type": "code",
   "execution_count": 6,
   "id": "4b4ab5d5",
   "metadata": {},
   "outputs": [
    {
     "data": {
      "text/plain": [
       "8"
      ]
     },
     "execution_count": 6,
     "metadata": {},
     "output_type": "execute_result"
    }
   ],
   "source": [
    "singleNumber([1, 2, 4, 2, 4, 8, 1])"
   ]
  },
  {
   "cell_type": "markdown",
   "id": "2a0c2408",
   "metadata": {},
   "source": [
    "# Problem Two: Number of 1 Bits (Easy)\n",
    "\n",
    "[Leetcode #191](https://leetcode.com/problems/number-of-1-bits/)\n",
    "\n",
    "## Solution One\n",
    "\n",
    "`n % 2` actually returns whether the last bit is `0` or `1`. Shift bits to right until number is `0`."
   ]
  },
  {
   "cell_type": "code",
   "execution_count": 12,
   "id": "a6e7f033",
   "metadata": {},
   "outputs": [],
   "source": [
    "def hammingWeight(n: int) -> int:\n",
    "        h = 0\n",
    "        while n > 0:\n",
    "            h += n%2\n",
    "            n = n >> 1\n",
    "\n",
    "        return h"
   ]
  },
  {
   "cell_type": "markdown",
   "id": "b38dc69d",
   "metadata": {},
   "source": [
    "## Solution Two\n",
    "\n",
    "Not that much better, but it looks *ONLY* at the number of ones. If you bitwise & a number with the number - 1, that will get rid of one of the ones. Continue to do this until it is all 0."
   ]
  },
  {
   "cell_type": "code",
   "execution_count": 14,
   "id": "9e136702",
   "metadata": {},
   "outputs": [],
   "source": [
    "def hammingWeight2(self, n: int) -> int:\n",
    "        h = 0\n",
    "        while n > 0:\n",
    "            n &= (n-1)\n",
    "            h += 1\n",
    "        \n",
    "        return h"
   ]
  },
  {
   "cell_type": "markdown",
   "id": "cdf9b9e3",
   "metadata": {},
   "source": [
    "# Problem Three: Counting Bits (Easy)\n",
    "\n",
    "[Leetcode #338](https://leetcode.com/problems/counting-bits/)\n",
    "\n",
    "This is actually a dp problem. When we see a new most significant bit (this happens at every power of 2 starting at 1), repeat the last `i` solutions + 1 (the 1 comes from this new bit)"
   ]
  },
  {
   "cell_type": "code",
   "execution_count": 15,
   "id": "8d6d0ce9",
   "metadata": {},
   "outputs": [],
   "source": [
    "def countBits(n: int) -> List[int]:\n",
    "        dp = [0] * (n + 1)\n",
    "        offset = 1\n",
    "\n",
    "        for i in range(1, n+1):\n",
    "            if 2*offset == i:\n",
    "                offset = i\n",
    "            dp[i] = 1 + dp[i - offset] \n",
    "        \n",
    "        return dp"
   ]
  },
  {
   "cell_type": "markdown",
   "id": "77b57171",
   "metadata": {},
   "source": [
    "# Problem Four: Reverse Bits (Easy)\n",
    "\n",
    "[Leetcode #190](https://leetcode.com/problems/reverse-bits/)\n",
    "\n",
    "Grab the `ith` bit, & it with `1`. Store that value in `31-i`th bit of `ans`."
   ]
  },
  {
   "cell_type": "code",
   "execution_count": 16,
   "id": "5fdecf4a",
   "metadata": {},
   "outputs": [],
   "source": [
    "def reverseBits(n: int) -> int:\n",
    "        ans = 0\n",
    "\n",
    "        for i in range(32):\n",
    "            bit = (n >> i) & 1\n",
    "            ans |= (bit << 31-i)\n",
    "        \n",
    "        return ans"
   ]
  },
  {
   "cell_type": "markdown",
   "id": "408edd72",
   "metadata": {},
   "source": [
    "# Problem Five: Missing Number (Easy)\n",
    "\n",
    "[Leetcode #268](https://leetcode.com/problems/missing-number/)\n",
    "\n",
    "Set `ans` to `0`. XOR every number in `nums` with `ans`. Then XOR every number in range `[0, n]` where `n` is length of `nums` with `ans`. Return `ans`"
   ]
  },
  {
   "cell_type": "code",
   "execution_count": 17,
   "id": "563c9e0f",
   "metadata": {},
   "outputs": [],
   "source": [
    "def missingNumber(nums: List[int]) -> int:\n",
    "        ans = 0\n",
    "\n",
    "        for n in nums:\n",
    "            ans ^= n\n",
    "        \n",
    "        for i in range(len(nums)+1):\n",
    "            ans ^= i\n",
    "        \n",
    "        return ans"
   ]
  },
  {
   "cell_type": "code",
   "execution_count": 18,
   "id": "2fd20b33",
   "metadata": {},
   "outputs": [
    {
     "data": {
      "text/plain": [
       "2"
      ]
     },
     "execution_count": 18,
     "metadata": {},
     "output_type": "execute_result"
    }
   ],
   "source": [
    "missingNumber([3, 0, 1])"
   ]
  },
  {
   "cell_type": "markdown",
   "id": "dbe13a2f",
   "metadata": {},
   "source": [
    "# Problem Six: Add Two Numbers (Medium)\n",
    "\n",
    "[Leetcode #371](https://leetcode.com/problems/sum-of-two-integers/)\n",
    "\n",
    "**Important concept**: Bit masking. If we & a number with `n` 1s, only those `n` bits will remain.\n",
    "\n",
    "- We are storing result inplace in `a`\n",
    "- Sum of two bits is `a ^ b`\n",
    "- We have a carry if `a & b`. But place this carry bit in the next column to the left in `b`\n",
    "- Sometimes with negative numbers the carry "
   ]
  },
  {
   "cell_type": "code",
   "execution_count": 19,
   "id": "ae0ff721",
   "metadata": {},
   "outputs": [],
   "source": [
    "def getSum(a: int, b: int) -> int:\n",
    "        mask = 0xfff\n",
    "        while (b & mask) > 0:\n",
    "            carry = (a & b) << 1\n",
    "            a = a ^ b\n",
    "            b = carry\n",
    "        \n",
    "        return (a & mask) if b > 0 else a"
   ]
  },
  {
   "cell_type": "code",
   "execution_count": null,
   "id": "a63c7397",
   "metadata": {},
   "outputs": [],
   "source": []
  }
 ],
 "metadata": {
  "kernelspec": {
   "display_name": "Python 3 (ipykernel)",
   "language": "python",
   "name": "python3"
  },
  "language_info": {
   "codemirror_mode": {
    "name": "ipython",
    "version": 3
   },
   "file_extension": ".py",
   "mimetype": "text/x-python",
   "name": "python",
   "nbconvert_exporter": "python",
   "pygments_lexer": "ipython3",
   "version": "3.8.0"
  }
 },
 "nbformat": 4,
 "nbformat_minor": 5
}
