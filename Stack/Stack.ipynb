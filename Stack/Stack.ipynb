{
 "cells": [
  {
   "cell_type": "markdown",
   "id": "7ef8895e",
   "metadata": {},
   "source": [
    "# Stack\n",
    "\n",
    "Solution to stack Leetcode problems"
   ]
  },
  {
   "cell_type": "code",
   "execution_count": 1,
   "id": "de5814c0",
   "metadata": {},
   "outputs": [],
   "source": [
    "from typing import List"
   ]
  },
  {
   "cell_type": "markdown",
   "id": "03f236da",
   "metadata": {},
   "source": [
    "# Problem One: Valid Parentheses (Easy)\n",
    "\n",
    "\n",
    "[Leetcode #20](https://leetcode.com/problems/valid-parentheses/)"
   ]
  },
  {
   "cell_type": "code",
   "execution_count": 2,
   "id": "1363c9be",
   "metadata": {},
   "outputs": [],
   "source": [
    "def isValid(s: str) -> bool:\n",
    "        stack = []\n",
    "        pars = {')':'(', ']': '[', '}': '{'}\n",
    "\n",
    "        for c in s:\n",
    "            if c in pars.values():\n",
    "                stack.append(c)\n",
    "            elif c in pars.keys():\n",
    "                if not stack or not stack.pop() == pars[c]:  # Make sure to check for empty stack here\n",
    "                    return False\n",
    "        \n",
    "        return not stack  # Only valid if stack is empty at the end"
   ]
  },
  {
   "cell_type": "code",
   "execution_count": 3,
   "id": "c39221a3",
   "metadata": {},
   "outputs": [
    {
     "data": {
      "text/plain": [
       "True"
      ]
     },
     "execution_count": 3,
     "metadata": {},
     "output_type": "execute_result"
    }
   ],
   "source": [
    "isValid('(){([])}')"
   ]
  },
  {
   "cell_type": "markdown",
   "id": "09950388",
   "metadata": {},
   "source": [
    "# Problem Two: MinStack (Medium)\n",
    "\n",
    "[Leetcode #155](https://leetcode.com/problems/min-stack/)\n",
    "\n",
    "At each level, store the minimum value seen so far. So when we pop a value, we also pop from min."
   ]
  },
  {
   "cell_type": "code",
   "execution_count": 6,
   "id": "48ee6f27",
   "metadata": {},
   "outputs": [],
   "source": [
    "class MinStack:\n",
    "\n",
    "    def __init__(self):\n",
    "        self._stack = []\n",
    "        self.min = []\n",
    "        \n",
    "\n",
    "    def push(self, val: int) -> None:\n",
    "        self._stack.append(val)\n",
    "        if not self.min:\n",
    "            self.min = [val]\n",
    "        else:\n",
    "            self.min.append(min(val, self.min[-1]))\n",
    "        \n",
    "\n",
    "    def pop(self) -> None:\n",
    "        # Normally would validate that stack is not empty here\n",
    "        self.min.pop()\n",
    "        self._stack.pop()\n",
    "\n",
    "    def top(self) -> int:\n",
    "        return self._stack[-1]\n",
    "\n",
    "    def getMin(self) -> int:\n",
    "        return self.min[-1]"
   ]
  },
  {
   "cell_type": "markdown",
   "id": "4b353de5",
   "metadata": {},
   "source": [
    "# Problem Three: Reverse Polish Notation (Medium)\n",
    "\n",
    "[Leetcode #150](https://leetcode.com/problems/evaluate-reverse-polish-notation/)"
   ]
  },
  {
   "cell_type": "code",
   "execution_count": 8,
   "id": "ed75b0f5",
   "metadata": {},
   "outputs": [],
   "source": [
    "def evalRPN(self, tokens: List[str]) -> int:\n",
    "    stack = []\n",
    "\n",
    "    for t in tokens:\n",
    "        if t == '+':\n",
    "            stack.append(stack.pop() + stack.pop())\n",
    "        elif t == '-':\n",
    "            stack.append(-stack.pop() + stack.pop())\n",
    "        elif t == '*':\n",
    "            stack.append(stack.pop() * stack.pop())\n",
    "        elif t == '/':\n",
    "            a, b = stack.pop(), stack.pop()\n",
    "            stack.append(int(b/a))\n",
    "        else:\n",
    "            stack.append(int(t))\n",
    "\n",
    "    return stack[0]"
   ]
  },
  {
   "cell_type": "markdown",
   "id": "ba3d7286",
   "metadata": {},
   "source": [
    "# Problem Four: Generate Parenthesis (Medium)\n",
    "\n",
    "[Leetcode #22](https://leetcode.com/problems/generate-parentheses/)"
   ]
  },
  {
   "cell_type": "code",
   "execution_count": 9,
   "id": "9ef0b02e",
   "metadata": {},
   "outputs": [],
   "source": [
    "def generateParenthesis(n: int) -> List[str]:\n",
    "        stack = []\n",
    "        res = []\n",
    "\n",
    "        def backtrack(openN, closedN):\n",
    "            if openN == closedN == n:\n",
    "                res.append(\"\".join(stack))\n",
    "            \n",
    "            if openN < n:\n",
    "                stack.append('(')\n",
    "                backtrack(openN + 1, closedN)\n",
    "                stack.pop()\n",
    "            \n",
    "            if closedN < openN:\n",
    "                stack.append(')')\n",
    "                backtrack(openN, closedN + 1)\n",
    "                stack.pop()\n",
    "        \n",
    "        backtrack(0, 0)\n",
    "\n",
    "        return res"
   ]
  },
  {
   "cell_type": "code",
   "execution_count": 14,
   "id": "33b516d5",
   "metadata": {},
   "outputs": [
    {
     "data": {
      "text/plain": [
       "['((((()))))',\n",
       " '(((()())))',\n",
       " '(((())()))',\n",
       " '(((()))())',\n",
       " '(((())))()',\n",
       " '((()(())))',\n",
       " '((()()()))',\n",
       " '((()())())',\n",
       " '((()()))()',\n",
       " '((())(()))',\n",
       " '((())()())',\n",
       " '((())())()',\n",
       " '((()))(())',\n",
       " '((()))()()',\n",
       " '(()((())))',\n",
       " '(()(()()))',\n",
       " '(()(())())',\n",
       " '(()(()))()',\n",
       " '(()()(()))',\n",
       " '(()()()())',\n",
       " '(()()())()',\n",
       " '(()())(())',\n",
       " '(()())()()',\n",
       " '(())((()))',\n",
       " '(())(()())',\n",
       " '(())(())()',\n",
       " '(())()(())',\n",
       " '(())()()()',\n",
       " '()(((())))',\n",
       " '()((()()))',\n",
       " '()((())())',\n",
       " '()((()))()',\n",
       " '()(()(()))',\n",
       " '()(()()())',\n",
       " '()(()())()',\n",
       " '()(())(())',\n",
       " '()(())()()',\n",
       " '()()((()))',\n",
       " '()()(()())',\n",
       " '()()(())()',\n",
       " '()()()(())',\n",
       " '()()()()()']"
      ]
     },
     "execution_count": 14,
     "metadata": {},
     "output_type": "execute_result"
    }
   ],
   "source": [
    "generateParenthesis(5)"
   ]
  },
  {
   "cell_type": "markdown",
   "id": "b8eb2480",
   "metadata": {},
   "source": [
    "# Problem Five: Daily Temperatures (Medium)\n",
    "\n",
    "[Leetcode #739](https://leetcode.com/problems/daily-temperatures/)"
   ]
  },
  {
   "cell_type": "code",
   "execution_count": 15,
   "id": "1eb1a294",
   "metadata": {},
   "outputs": [],
   "source": [
    "def dailyTemperatures(temperatures: List[int]) -> List[int]:\n",
    "        stack = []\n",
    "        output = [0 for i in range(len(temperatures))]\n",
    "\n",
    "        for i, temp in enumerate(temperatures):\n",
    "            while stack and temp > stack[-1][1]:\n",
    "                t = stack.pop()\n",
    "                output[t[0]] = i - t[0]\n",
    "            stack.append((i, temp))\n",
    "        \n",
    "        return output"
   ]
  },
  {
   "cell_type": "markdown",
   "id": "cd0d7416",
   "metadata": {},
   "source": [
    "# Problem Six: Car Fleet (Medium)\n",
    "\n",
    "[Leetcode #853](https://leetcode.com/problems/car-fleet/)\n",
    "\n",
    "Think of each car as a linear function. These cars might intersect with car infront of them. Sort by starting position. Iterate reverse order (from closest to target to furthest). Add each new cars time to stack. If the top of the stack is a slower car, there is a collision (new car fleet), and the newly added car will have to slow down for it, so pop that newly added value. In the end, just return the length of the stack."
   ]
  },
  {
   "cell_type": "code",
   "execution_count": 16,
   "id": "84f5c8c9",
   "metadata": {},
   "outputs": [],
   "source": [
    "def carFleet(target: int, position: List[int], speed: List[int]) -> int:\n",
    "        cars = [(position[i], speed[i]) for i in range(len(position))]\n",
    "        cars.sort(key=lambda x: x[0])\n",
    "\n",
    "        stack = []\n",
    "        for p, s in cars[::-1]:\n",
    "            stack.append((target - p) / s)\n",
    "\n",
    "            if len(stack) > 1 and stack[-1] <= stack[-2]:\n",
    "                stack.pop()\n",
    "        \n",
    "        return len(stack)"
   ]
  },
  {
   "cell_type": "code",
   "execution_count": null,
   "id": "aa28e996",
   "metadata": {},
   "outputs": [],
   "source": []
  }
 ],
 "metadata": {
  "kernelspec": {
   "display_name": "Python 3 (ipykernel)",
   "language": "python",
   "name": "python3"
  },
  "language_info": {
   "codemirror_mode": {
    "name": "ipython",
    "version": 3
   },
   "file_extension": ".py",
   "mimetype": "text/x-python",
   "name": "python",
   "nbconvert_exporter": "python",
   "pygments_lexer": "ipython3",
   "version": "3.8.0"
  }
 },
 "nbformat": 4,
 "nbformat_minor": 5
}
