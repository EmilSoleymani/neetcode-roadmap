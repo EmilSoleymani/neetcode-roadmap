{
 "cells": [
  {
   "cell_type": "markdown",
   "id": "8414898f",
   "metadata": {},
   "source": [
    "# Linked List\n",
    "\n",
    "Solutions to linked list Leetcode problems"
   ]
  },
  {
   "cell_type": "code",
   "execution_count": 27,
   "id": "8f47607a",
   "metadata": {},
   "outputs": [],
   "source": [
    "from typing import Optional\n",
    "\n",
    "class ListNode:\n",
    "    def __init__(self, val=0, next=None):\n",
    "        self.val = val\n",
    "        self.next = next\n",
    "    \n",
    "    # Added this function for output of test cases\n",
    "    def print(self):\n",
    "        curr = self\n",
    "        print(\"[\", end='')\n",
    "        while curr.next:\n",
    "            print(curr.val, end=\",\")\n",
    "            curr = curr.next\n",
    "        print(str(curr.val) + ']')\n",
    "\n",
    "class Node:\n",
    "    def __init__(self, x: int, next: 'Node' = None, random: 'Node' = None):\n",
    "        self.val = x\n",
    "        self.next = next\n",
    "        self.random = random\n",
    "    \n",
    "    # Added this function for output of test cases\n",
    "    def print(self):\n",
    "        curr = self\n",
    "        print(\"[\", end='')\n",
    "        while curr.next:\n",
    "            random = str(curr.random.val) if curr.random else \"None\"\n",
    "            print('<' + str(curr.val) + ', ' + random + '>', end=\",\")\n",
    "            curr = curr.next\n",
    "        random = str(curr.random.val) if curr.random else \"None\"\n",
    "        print('<' + str(curr.val) + ', ' + random + '>' + ']')"
   ]
  },
  {
   "cell_type": "markdown",
   "id": "cbeffad5",
   "metadata": {},
   "source": [
    "# Problem One: Reverse Linked List (Easy)\n",
    "\n",
    "[Leetcode #206](https://leetcode.com/problems/reverse-linked-list/)\n",
    "\n",
    "> One of the **most important** solutions. Make sure you have this memorized."
   ]
  },
  {
   "cell_type": "code",
   "execution_count": 3,
   "id": "d8eea8d1",
   "metadata": {},
   "outputs": [],
   "source": [
    "def reverseList(head: Optional[ListNode]) -> Optional[ListNode]:\n",
    "        prev, curr = None, head\n",
    "\n",
    "        while curr:\n",
    "            temp = curr.next\n",
    "            curr.next = prev\n",
    "            prev = curr\n",
    "            curr = temp\n",
    "        \n",
    "        return prev"
   ]
  },
  {
   "cell_type": "code",
   "execution_count": 12,
   "id": "92b8f448",
   "metadata": {},
   "outputs": [
    {
     "name": "stdout",
     "output_type": "stream",
     "text": [
      "[5,2,3]\n"
     ]
    }
   ],
   "source": [
    "reverseList(ListNode(3, ListNode(2, ListNode(5)))).print()"
   ]
  },
  {
   "cell_type": "markdown",
   "id": "084965ff",
   "metadata": {},
   "source": [
    "# Problem Two: Merge Two Sorted Lists (Easy)\n",
    "\n",
    "[Leetcode #21](https://leetcode.com/problems/merge-two-sorted-lists/)\n",
    "\n",
    "* Create a head pointer which points to either `list1` of `list2` depending on which one is smaller. Make sure to set that node's `next` pointer to `None`.\n",
    "\n",
    "* Create `curr` pointer and set it to `head`. We need to keep the `head` pointer in its position so we can return it. We will use `curr` for iteration / building the final  list.\n",
    "\n",
    "* While *both* `list1` and `list2` are not null pointers:\n",
    "    * If `list1.val` is less than `list2.val`, set it to the next in our list (`curr.next`), and set its next to a null pointer. Set `list1` to the next value in that list (you will need to keep a temporary reference to achieve this)\n",
    "    * Else, do the same but for `list2`\n",
    "    * Set `curr` to `curr.next`\n",
    "\n",
    "* At this point, either `list1` is null (we have added everything from `list1`) or `list2` is null (we have added everything from `list2`). Run the following while loops which will add the remaining elements from whichever list wasn't fully added:\n",
    "    * While `list1`, set it to the next in our list (`curr.next`), and set its next to a null pointer. Set `list1` to the next value in that list (you will need to keep a temporary reference to achieve this). Set `curr` to `curr.next`.\n",
    "    * While `list2`, set it to the next in our list (`curr.next`), and set its next to a null pointer. Set `list2` to the next value in that list (you will need to keep a temporary reference to achieve this). Set `curr` to `curr.next`.\n",
    "\n",
    "* Return `head`"
   ]
  },
  {
   "cell_type": "code",
   "execution_count": 6,
   "id": "02255cb4",
   "metadata": {},
   "outputs": [],
   "source": [
    "def mergeTwoLists(list1: Optional[ListNode], list2: Optional[ListNode]) -> Optional[ListNode]:\n",
    "        if not list1:\n",
    "            return list2\n",
    "        \n",
    "        if not list2:\n",
    "            return list1\n",
    "        \n",
    "        if list1.val < list2.val:\n",
    "            tmp = list1.next\n",
    "            list1.next = None\n",
    "            head = list1\n",
    "            list1 = tmp\n",
    "        else:\n",
    "            tmp = list2.next\n",
    "            list2.next = None\n",
    "            head = list2\n",
    "            list2 = tmp\n",
    "        \n",
    "        curr = head\n",
    "\n",
    "        while list1 and list2:\n",
    "            if list1.val < list2.val:\n",
    "                tmp = list1.next\n",
    "                list1.next = None\n",
    "                curr.next = list1\n",
    "                list1 = tmp\n",
    "            else:\n",
    "                tmp = list2.next\n",
    "                list2.next = None\n",
    "                curr.next = list2\n",
    "                list2 = tmp\n",
    "            \n",
    "            curr = curr.next\n",
    "        \n",
    "        while list1:\n",
    "            tmp = list1.next\n",
    "            list1.next = None\n",
    "            curr.next = list1\n",
    "            list1 = tmp\n",
    "            curr = curr.next\n",
    "        \n",
    "        while list2:\n",
    "            tmp = list2.next\n",
    "            list2.next = None\n",
    "            curr.next = list2\n",
    "            list2 = tmp\n",
    "            curr = curr.next\n",
    "        \n",
    "        return head"
   ]
  },
  {
   "cell_type": "code",
   "execution_count": 18,
   "id": "7c5669f9",
   "metadata": {},
   "outputs": [
    {
     "name": "stdout",
     "output_type": "stream",
     "text": [
      "[1,1,2,3,4,4]\n",
      "[1,1,2,3,4,4]\n"
     ]
    }
   ],
   "source": [
    "list1 = ListNode(1, ListNode(2, ListNode(4)))\n",
    "list2 = ListNode(1, ListNode(3, ListNode(4)))\n",
    "\n",
    "merged = mergeTwoLists(list1, list2)\n",
    "merged.print()"
   ]
  },
  {
   "cell_type": "markdown",
   "id": "57c77dba",
   "metadata": {},
   "source": [
    "# Problem Three: Reorder List (Medium)\n",
    "\n",
    "[Leetcode #143](https://leetcode.com/problems/reorder-list/)\n",
    "\n",
    "Three main steps:\n",
    "\n",
    "1. Use fast/slow pointer method to get end and middle of the list\n",
    "    * Note, if `fast` pointer has a next value, set `fast` to `fast.next`. This happens in odd sized lists\n",
    "\n",
    "2. Reverse the second half of the list\n",
    "    * Use algorithm seen in **Problem One: Reverse Linked List** to reverse the linked list from `slow` to the end.\n",
    "\n",
    "3. Rearrange\n",
    "    * There are now two \"streams\" pointing towards the `slow` pointer. One is the first half of the list, which starts at `head`, and the other is the newly modified second half of the list which starts at `fast`. We want to restore the linear \"flow\" of the pointers.\n",
    "    * Begin at head with a new pointer called `curr`. While `fast` is not `slow`, grab the node at `fast` and place it between `curr` and `curr.next`. Set `fast` to `fast.next` and `curr` to `curr.next`. Make sure to keep temporary pointers to `fast.next` and `curr.next` for proper progression."
   ]
  },
  {
   "cell_type": "code",
   "execution_count": 16,
   "id": "6eb0631c",
   "metadata": {},
   "outputs": [],
   "source": [
    "def reorderList(head: Optional[ListNode]) -> None:\n",
    "    # Get end and middle of list\n",
    "    fast, slow = head, head\n",
    "    while fast.next and fast.next.next:\n",
    "        fast = fast.next.next\n",
    "        slow = slow.next\n",
    "\n",
    "    if fast.next:\n",
    "        fast = fast.next\n",
    "\n",
    "    # Reverse second half\n",
    "    prev, curr = None, slow\n",
    "    while curr:\n",
    "        tmp = curr.next\n",
    "        curr.next = prev\n",
    "        prev = curr\n",
    "        curr = tmp\n",
    "\n",
    "    # Rearrange by bringing each node at the fast pointer inbetween node at head and its next node\n",
    "    curr = head\n",
    "    while fast != slow:\n",
    "        tmp1 = fast.next\n",
    "        tmp2 = curr.next\n",
    "        curr.next = fast\n",
    "        fast.next = tmp2\n",
    "        fast = tmp1\n",
    "        curr = tmp2"
   ]
  },
  {
   "cell_type": "code",
   "execution_count": 15,
   "id": "1cc31a50",
   "metadata": {},
   "outputs": [
    {
     "name": "stdout",
     "output_type": "stream",
     "text": [
      "[1,5,2,4,3]\n",
      "[1,6,2,5,3,4]\n"
     ]
    }
   ],
   "source": [
    "head = ListNode(1, ListNode(2, ListNode(3, ListNode(4, ListNode(5)))))\n",
    "reorderList(head)\n",
    "\n",
    "head2 = ListNode(1, ListNode(2, ListNode(3, ListNode(4, ListNode(5, ListNode(6))))))\n",
    "reorderList(head2)\n",
    "\n",
    "head.print()\n",
    "head2.print()"
   ]
  },
  {
   "cell_type": "markdown",
   "id": "9a9f24e9",
   "metadata": {},
   "source": [
    "# Problem Four: Copy List with Random Pointer (Medium)\n",
    "\n",
    "[Leetcode #138](https://leetcode.com/problems/copy-list-with-random-pointer/)\n",
    "\n",
    "**Key concept**: Create a hashmap that takes a reference to a node in the original list as a key and returns the reference to the corresponding new node in the copy list as value.\n",
    "\n",
    "* First pass: Just create copy nodes with the correct values, and build hash map\n",
    "* Second pass: Create pointers of each element\n",
    "\n",
    "> Note: It is important to create the entry for `None` in the dict by default"
   ]
  },
  {
   "cell_type": "code",
   "execution_count": 21,
   "id": "5a02a8f8",
   "metadata": {},
   "outputs": [],
   "source": [
    "def copyRandomList(head: 'Optional[Node]') -> 'Optional[Node]':\n",
    "    # This map will \"link\" nodes from original list to a reference of the corresponding node in the deep copy\n",
    "    copyMap = {None: None}\n",
    "\n",
    "    curr = head\n",
    "    while curr:\n",
    "        copy = Node(curr.val)\n",
    "        copyMap[curr] = copy\n",
    "        curr = curr.next\n",
    "\n",
    "    curr = head\n",
    "    while curr:\n",
    "        copy = copyMap[curr]\n",
    "        copy.next = copyMap[curr.next]\n",
    "        copy.random = copyMap[curr.random]\n",
    "        curr = curr.next\n",
    "\n",
    "    return copyMap[head]"
   ]
  },
  {
   "cell_type": "code",
   "execution_count": 29,
   "id": "23306b70",
   "metadata": {},
   "outputs": [
    {
     "name": "stdout",
     "output_type": "stream",
     "text": [
      "[<1, 3>,<2, None>,<3, 2>]\n",
      "[<1, 3>,<2, None>,<3, 2>]\n"
     ]
    }
   ],
   "source": [
    "head = Node(1)\n",
    "node1 = Node(2)\n",
    "node2 = Node(3)\n",
    "\n",
    "head.next = node1\n",
    "node1.next = node2\n",
    "\n",
    "head.random = node2\n",
    "node2.random = node1\n",
    "\n",
    "head.print()\n",
    "\n",
    "headCopy = copyRandomList(head)\n",
    "headCopy.print()\n",
    "\n",
    "assert head != headCopy"
   ]
  },
  {
   "cell_type": "markdown",
   "id": "a4de1bfe",
   "metadata": {},
   "source": [
    "# Problem Five: Add Two Numbers (Medium)\n",
    "\n",
    "[Leetcode #2](https://leetcode.com/problems/add-two-numbers/)\n",
    "\n",
    "* Initialize `head` to a `ListNode`. This first link will be ignored so value doesn't matter. Initialize `carry` to `0`. Initialize `curr` to `head`.\n",
    "\n",
    "* While `l1` and `l2` are not null:\n",
    "    * Compute `l1.val + l2.val + carry`\n",
    "    * Update `carry` to `0` if `val <= 9`, else `1`\n",
    "    * Update `val` to `val - 10` if `not val <= 9`\n",
    "    * Set `curr.next` to a new `ListNode` with value `val`\n",
    "    * Set `l1` and `l2` to `l1.next` and `l2.next`\n",
    "\n",
    "* It is possible that one number had more digits than the other.\n",
    "    * While `l1`, do same as above, but excluding values related to `l2`\n",
    "    * While `l2`, do same as above, but excluding values related to `l1`\n",
    "\n",
    "* It is possible that the carry bit is not `0` at the end, so we will have to add one last node (digit) to the list\n",
    "    * If `carry > 0` set `curr.next` to `ListNode(carry)`\n",
    "\n",
    "* Return `head.next`"
   ]
  },
  {
   "cell_type": "code",
   "execution_count": 30,
   "id": "05b6b59d",
   "metadata": {},
   "outputs": [],
   "source": [
    "def addTwoNumbers(l1: Optional[ListNode], l2: Optional[ListNode]) -> Optional[ListNode]:\n",
    "        head = ListNode(-1)\n",
    "        carry = 0\n",
    "\n",
    "        curr = head\n",
    "        while l1 and l2:\n",
    "            val = l1.val + l2.val + carry\n",
    "            carry = 0 if val <= 9 else 1\n",
    "            val = val if val <= 9 else val - 10\n",
    "            curr.next = ListNode(val)\n",
    "            l1 = l1.next\n",
    "            l2 = l2.next\n",
    "            curr = curr.next\n",
    "        \n",
    "        while l1:\n",
    "            val = l1.val + carry\n",
    "            carry = 0 if val <= 9 else 1\n",
    "            val = val if val <= 9 else val - 10\n",
    "            curr.next = ListNode(val)\n",
    "            l1 = l1.next\n",
    "            curr = curr.next\n",
    "        \n",
    "        while l2:\n",
    "            val = l2.val + carry\n",
    "            carry = 0 if val <= 9 else 1\n",
    "            val = val if val <= 9 else val - 10\n",
    "            curr.next = ListNode(val)\n",
    "            l2 = l2.next\n",
    "            curr = curr.next\n",
    "        \n",
    "        if carry > 0:\n",
    "            curr.next = ListNode(carry)\n",
    "        \n",
    "        return head.next"
   ]
  },
  {
   "cell_type": "code",
   "execution_count": 42,
   "id": "82328e7b",
   "metadata": {},
   "outputs": [
    {
     "name": "stdout",
     "output_type": "stream",
     "text": [
      "[1,1,2,1]\n"
     ]
    }
   ],
   "source": [
    "_245 = ListNode(5, ListNode(4, ListNode(2)))\n",
    "_876 = ListNode(6, ListNode(7, ListNode(8)))\n",
    "\n",
    "reverseList(addTwoNumbers(_245, _876)).print()"
   ]
  },
  {
   "cell_type": "markdown",
   "id": "6f3da00e",
   "metadata": {},
   "source": [
    "# Problem Six: Linked List Cycle (Easy)\n",
    "\n",
    "[Leetcode #141](https://leetcode.com/problems/linked-list-cycle/)\n",
    "\n",
    "One of the uses for the `fast` and `slow` pointer method."
   ]
  },
  {
   "cell_type": "code",
   "execution_count": 43,
   "id": "dd2de61b",
   "metadata": {},
   "outputs": [],
   "source": [
    "def hasCycle(head: Optional[ListNode]) -> bool:\n",
    "        # At least two nodes must exist for there to be a cycle\n",
    "        if not head or not head.next:\n",
    "            return False\n",
    "        \n",
    "        slow = head\n",
    "        fast = head.next\n",
    "\n",
    "        while slow is not fast:\n",
    "            if not fast.next or (not fast.next.next):\n",
    "                return False\n",
    "            \n",
    "            slow = slow.next\n",
    "            fast = fast.next.next\n",
    "        \n",
    "        return True"
   ]
  },
  {
   "cell_type": "markdown",
   "id": "c4a9c14a",
   "metadata": {},
   "source": [
    "# Problem Seven: Find Duplicate Number (Medium)\n",
    "\n",
    "[Leetcode #287](https://leetcode.com/problems/find-the-duplicate-number/description/)\n",
    "\n",
    "Uses Floyd's cycle detection algorithm. First of all, imagine array as a linked list with pointers.\n",
    "\n",
    "> e.g. `nums = [1, 3, 4, 2, 2] ` represents a linked list such that node 1 points to the node with value `nums[1]` which is 3, and node 3 points to node with value `nums[3]` which is 2, etc....\n",
    "\n",
    "The algorithm has two main phases:\n",
    "\n",
    "1. Find the intersection of fast and slow pointers:\n",
    "    * Initialize `fast` and `slow` to `0`\n",
    "    * Until `fast == slow`, advance `fast` pointer by two (`fast = nums[nums[fast]]`) and `slow` pointer by one (`slow = nums[slow]`)\n",
    "\n",
    "2. Find the intersection of new slow pointer and old slow pointer\n",
    "    * Initialize `slow2` to 0\n",
    "    * Until `slow == slow2`, advance `slow` pointer by one (`slow = nums[slow]`) and `slow2` pointer by one(`slow2 = nums[slow2]`)\n",
    "\n",
    "The value of `slow` or `slow2` can be returned as the answer. "
   ]
  },
  {
   "cell_type": "code",
   "execution_count": 44,
   "id": "453f3fd8",
   "metadata": {},
   "outputs": [],
   "source": [
    "def findDuplicate(nums: List[int]) -> int:\n",
    "        # Phase One: Find intersection of fast and slow pointers\n",
    "        slow, fast = 0, 0\n",
    "        while True:\n",
    "            fast = nums[nums[fast]]\n",
    "            slow = nums[slow]\n",
    "            if fast == slow:\n",
    "                break\n",
    "        \n",
    "        # Phase Two: Find intersection of new slow pointer and old slow pointer\n",
    "        slow2 = 0\n",
    "        while True:\n",
    "            slow = nums[slow]\n",
    "            slow2 = nums[slow2]\n",
    "            if slow == slow2:\n",
    "                return slow"
   ]
  },
  {
   "cell_type": "markdown",
   "id": "e70b7963",
   "metadata": {},
   "source": [
    "# Problem Eight: LRU Cache (Medium)\n",
    "\n",
    "[Leetcode #146](https://leetcode.com/problems/lru-cache/)\n",
    "\n",
    "**Key concept**: Keep a hash map which associates keys to pointers to our custom `LRUNode` objects. These objects represent a doubly linked list, and they each contain key and value. There are two dummy `LRUNode` objects, `LRU` and `MRU` (least/most recently used), which are always all the way to the left and all the way to the right. Every call to `get` and `put` results in a Node being *inserted* beside `MRU` node. When we reach capacity, the Node beside `LRU` is deleted.\n",
    "\n",
    "* `get(key)`:\n",
    "    * If `key` exists in `cache` dict, remove the associated `LRUNode` and insert it at the right as the most recently used. Return `cache[key].val`.\n",
    "    * Else, return `-1`\n",
    "\n",
    "* `put(key, value)`:\n",
    "    * If `key` exists in `cache` dict, remove the associated `LRUNode`\n",
    "    * Create new `LRUNode` with `(key, value)` pair and link `cache[key]` to this node\n",
    "    * Insert this node to the right as the most recently used\n",
    "    * If `cache` has reached capacity, remove the least recently used node (`LRU.right`) and its key (this is we also store key in the nodes) from `cache`."
   ]
  },
  {
   "cell_type": "code",
   "execution_count": 45,
   "id": "a0eb6273",
   "metadata": {},
   "outputs": [],
   "source": [
    "class LRUNode:\n",
    "    \"\"\"\n",
    "    Custom Node object for doubly linked list representing most and least recently used key/value pairs for LRUCache\n",
    "    \"\"\"\n",
    "    def __init__(self, key, val):\n",
    "        self.key, self.val = key, val\n",
    "        self.prev, self.next = None, None\n",
    "\n",
    "class LRUCache:\n",
    "    def __init__(self, capacity: int):\n",
    "        self.cap = capacity\n",
    "        self.cache = {}  # Dict to map key to LRUNode\n",
    "\n",
    "        # Initialize dummy LRUNodes for fast access to start and end of doubly linked list\n",
    "        self.LRU, self.MRU = LRUNode(0, 0), LRUNode(0, 0)\n",
    "        self.LRU.next, self.MRU.prev = self.MRU, self.LRU\n",
    "    \n",
    "\n",
    "    def remove(self, node):\n",
    "        \"\"\"\n",
    "        Removes `node` from doubly linked list\n",
    "        \"\"\"\n",
    "        tmpPrev, tmpNext = node.prev, node.next\n",
    "        node.prev, node.next = None, None\n",
    "        tmpPrev.next, tmpNext.prev = tmpNext, tmpPrev\n",
    "\n",
    "\n",
    "    def insert(self, node):\n",
    "        \"\"\"\n",
    "        Inserts `node` into doubly linked list at the right, just to the left of MRU dummy node\n",
    "        \"\"\"\n",
    "        prev = self.MRU.prev\n",
    "        self.MRU.prev = node\n",
    "        node.prev = prev\n",
    "        prev.next = node\n",
    "        node.next = self.MRU\n",
    "\n",
    "\n",
    "    def get(self, key: int) -> int:\n",
    "        if key in self.cache:\n",
    "            # Remove and reinsert to make it most recently used node\n",
    "            self.remove(self.cache[key])\n",
    "            self.insert(self.cache[key])\n",
    "            return self.cache[key].val  # Return value\n",
    "        return -1\n",
    "        \n",
    "\n",
    "    def put(self, key: int, value: int) -> None:\n",
    "        # Remove LRUNode if this key existed\n",
    "        if key in self.cache:\n",
    "            self.remove(self.cache[key])\n",
    "        # Create link of key to pointer of LRUNode containing key, value pair\n",
    "        self.cache[key] = LRUNode(key, value)\n",
    "        # Insert this LRUNode as the most recently used\n",
    "        self.insert(self.cache[key])\n",
    "        \n",
    "        # If we have reached capacity\n",
    "        if len(self.cache) > self.cap:\n",
    "            # Remove the least recently used value (Found to the right of LRU node)\n",
    "            lru = self.LRU.next\n",
    "            self.remove(lru)\n",
    "            del self.cache[lru.key]"
   ]
  },
  {
   "cell_type": "code",
   "execution_count": 48,
   "id": "85b3dd39",
   "metadata": {},
   "outputs": [],
   "source": [
    "cache = LRUCache(2)\n",
    "\n",
    "cache.put(\"Hello\", \"World\")\n",
    "assert cache.get(\"Hello\") == \"World\"\n",
    "assert cache.get(\"H\") == -1\n",
    "cache.put(\"John\", \"Doe\")\n",
    "cache.put(\"Clark\", \"Kent\")\n",
    "assert cache.get(\"Hello\") == -1\n",
    "assert cache.get(\"John\") == \"Doe\"\n",
    "cache.put(\"Bruce\", \"Wayne\")\n",
    "assert cache.get(\"Clark\") == -1\n",
    "assert cache.get(\"John\") == \"Doe\"\n",
    "assert cache.get(\"Bruce\") == \"Wayne\""
   ]
  }
 ],
 "metadata": {
  "kernelspec": {
   "display_name": "Python 3 (ipykernel)",
   "language": "python",
   "name": "python3"
  },
  "language_info": {
   "codemirror_mode": {
    "name": "ipython",
    "version": 3
   },
   "file_extension": ".py",
   "mimetype": "text/x-python",
   "name": "python",
   "nbconvert_exporter": "python",
   "pygments_lexer": "ipython3",
   "version": "3.8.0"
  }
 },
 "nbformat": 4,
 "nbformat_minor": 5
}
