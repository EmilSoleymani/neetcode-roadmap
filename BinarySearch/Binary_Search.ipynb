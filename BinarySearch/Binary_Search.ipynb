{
 "cells": [
  {
   "cell_type": "markdown",
   "id": "5f91f962",
   "metadata": {},
   "source": [
    "# Binary Search\n",
    "\n",
    "Solutions to binary search Leetcode problems"
   ]
  },
  {
   "cell_type": "code",
   "execution_count": 1,
   "id": "00d6f41b",
   "metadata": {},
   "outputs": [],
   "source": [
    "from typing import List"
   ]
  },
  {
   "cell_type": "code",
   "execution_count": 2,
   "id": "41bfa0ee",
   "metadata": {},
   "outputs": [],
   "source": [
    "def search(nums: List[int], target: int) -> int:\n",
    "        left, right = 0, len(nums) - 1\n",
    "\n",
    "        while left <= right:\n",
    "            middle = left + (right - left) // 2\n",
    "\n",
    "            if nums[middle] == target:\n",
    "                return middle\n",
    "            elif nums[middle] > target:\n",
    "                right = middle - 1\n",
    "            else:\n",
    "                left = middle + 1\n",
    "        \n",
    "        return -1"
   ]
  },
  {
   "cell_type": "markdown",
   "id": "d42aa1ee",
   "metadata": {},
   "source": [
    "# Problem One: Search a 2D Matrix (Medium)\n",
    "\n",
    "[Leetcode #74](https://leetcode.com/problems/search-a-2d-matrix/)"
   ]
  },
  {
   "cell_type": "code",
   "execution_count": 3,
   "id": "b3d117c3",
   "metadata": {},
   "outputs": [],
   "source": [
    "def searchMatrix(matrix: List[List[int]], target: int) -> bool:\n",
    "        R, C = len(matrix), len(matrix[0])\n",
    "\n",
    "        top, bot = 0, R - 1\n",
    "\n",
    "        while top <= bot:\n",
    "            row = (top + bot) // 2\n",
    "\n",
    "            if target > matrix[row][-1]:\n",
    "                top = row + 1\n",
    "            elif target < matrix[row][0]:\n",
    "                bot = row - 1\n",
    "            else:\n",
    "                break\n",
    "        \n",
    "        if not top <= bot: \n",
    "            return False\n",
    "\n",
    "        row = (top + bot) // 2\n",
    "        left, right = 0, C - 1\n",
    "\n",
    "        while left <= right:\n",
    "            mid = (left + right) // 2\n",
    "\n",
    "            if target > matrix[row][mid]:\n",
    "                left = mid + 1\n",
    "            elif target < matrix[row][mid]:\n",
    "                right = mid - 1\n",
    "            else:\n",
    "                return True\n",
    "        \n",
    "        return False"
   ]
  },
  {
   "cell_type": "markdown",
   "id": "d97396a4",
   "metadata": {},
   "source": [
    "# Problem Two: Koko Eating Bananas (Medium)\n",
    "\n",
    "[Leetcode #875](https://leetcode.com/problems/koko-eating-bananas/)"
   ]
  },
  {
   "cell_type": "code",
   "execution_count": 4,
   "id": "58829ac9",
   "metadata": {},
   "outputs": [],
   "source": [
    "def minEatingSpeed(piles: List[int], h: int) -> int:\n",
    "        \n",
    "        def eatTime(k: int) -> int:\n",
    "            return sum([math.ceil(x/k) for x in piles])\n",
    "        \n",
    "        left, right = 1, max(piles)\n",
    "        res = right\n",
    "\n",
    "        while left <= right:\n",
    "            k = (left + right) // 2\n",
    "\n",
    "            if eatTime(k) <= h:\n",
    "                res = min(res, k)\n",
    "                right = k - 1\n",
    "            else:\n",
    "                left = k + 1\n",
    "        \n",
    "        return res"
   ]
  },
  {
   "cell_type": "markdown",
   "id": "e53ec041",
   "metadata": {},
   "source": [
    "# Problem Three: Find Minimum in Rotated Sorted Array (Medium)\n",
    "\n",
    "[Leetcode #153](https://leetcode.com/problems/find-minimum-in-rotated-sorted-array/)\n",
    "\n",
    "Start `left` and `right` pointers on opposite ends of array. If at any point the number at `left` is less than number at `right`, we are in the \"lower\" half of the array, and the minimum number is either at `left`, or the smallest number we have seen before. Keep choosing middle, updating `minNum` if neccessary, and choosing left or right while `left <= right`. If the number at `mid` is greater than or equal to number at `left`, we are in the \"upper\" half of the array (the min is not here), so search the right side (shift `left` pointer), else search left side (shift `right` pointer)"
   ]
  },
  {
   "cell_type": "code",
   "execution_count": 5,
   "id": "86fbc0ae",
   "metadata": {},
   "outputs": [],
   "source": [
    "def findMin(nums: List[int]) -> int:\n",
    "        minNum = nums[0]\n",
    "        left, right = 0, len(nums) - 1\n",
    "\n",
    "        while left <= right:\n",
    "            if nums[left] < nums[right]:\n",
    "                minNum = min(minNum, nums[left])\n",
    "                break\n",
    "\n",
    "            mid = (left + right) // 2\n",
    "            minNum = min(minNum, nums[mid])\n",
    "\n",
    "            if nums[mid] >= nums[left]:\n",
    "                left = mid + 1\n",
    "            else:\n",
    "                right = mid\n",
    "        \n",
    "        return minNum"
   ]
  },
  {
   "cell_type": "markdown",
   "id": "d43dc11e",
   "metadata": {},
   "source": [
    "# Problem Four: Search in Rotated Sorted Array (Medium)\n",
    "\n",
    "[Leetcode #33](https://leetcode.com/problems/search-in-rotated-sorted-array/)\n",
    "\n",
    "Initialize `left` and `right` pointers to `0` and `N - 1` respectively where `N` is the length of `nums`. While `left <= right`:\n",
    "\n",
    "* Set middle pointer to `(left + right) // 2`. Check if this is target\n",
    "\n",
    "* If we are in left sorted portion (This is true if `nums[left] <= nums[mid]`\n",
    "    * If `target` is larger than `nums[mid]`, search to the right (shift `left` pointer to `mid + 1`)\n",
    "    * If `target` is less than the current `left` pointer, it is in the right sorted portion, so search to the right (shift `left` pointer to `mid + 1`)\n",
    "    * Else, search to the left (shift `right` pointer to `mid - 1`)\n",
    "\n",
    "* Else we are in the right sorted portion\n",
    "    * If `target` is less than `nums[mid]`, search to the left (shift `right` pointer to `mid - 1`)\n",
    "    * If `target` is greater than the current `right` pointer, it is in the left sorted portion, so search to the left (shift `right` pointer to `mid - 1`)\n",
    "    * Else, search to the right (shift `left` pointer to `mid + 1`)\n",
    "\n",
    "If the `while` loop exits, `target` was not found. Return `-1`."
   ]
  },
  {
   "cell_type": "code",
   "execution_count": 7,
   "id": "b3efa0c5",
   "metadata": {},
   "outputs": [],
   "source": [
    "def search(nums: List[int], target: int) -> int:\n",
    "        left, right = 0, len(nums) - 1\n",
    "\n",
    "        while left <= right:\n",
    "            if nums[left] == target:\n",
    "                return left\n",
    "\n",
    "            if nums[right] == target:\n",
    "                return right\n",
    "\n",
    "            mid = (left + right) // 2\n",
    "            if nums[mid] == target:\n",
    "                return mid\n",
    "\n",
    "            if nums[left] <= nums[mid]:  # We are in the left sorted portion\n",
    "                if target > nums[mid] or target < nums[left]:\n",
    "                    # If we are in left side and target is bigger than our middle\n",
    "                    # Or we are in left side and target is smaller than left pointer (it is in right sorted portion)\n",
    "                    left = mid + 1  # Search to the right of the middle pointer\n",
    "                else:\n",
    "                    right = mid - 1  # Search to the left of the middle pointer\n",
    "            else:  # We are in the right sorted portion\n",
    "                if target < nums[mid] or target > nums[right]:\n",
    "                    # If we are in right side and target is less than our middle\n",
    "                    # Or we are in right side and target is bigger than the right pointer (it is in left sorted portion) \n",
    "                    right = mid - 1 # Search to the left of the middle pointer\n",
    "                else:\n",
    "                    left = mid + 1  # Search to the right of the middle pointer\n",
    "        \n",
    "        return -1"
   ]
  },
  {
   "cell_type": "markdown",
   "id": "97c6e933",
   "metadata": {},
   "source": [
    "# Problem Five: Time Based Key-Value Store (Medium)\n",
    "\n",
    "[Leetcode #981](https://leetcode.com/problems/time-based-key-value-store/)\n",
    "\n",
    "The underlying data structure is a dictionary which stores a list of tuples containing an ordered pair of `(timestamp, value)` corresponding to `keys`. In this way, `set` calls are constant time, but `get` calls are linear time (will have to search through all timestamps in worst case).\n",
    "\n",
    "If application is read heavy (i.e. `set` will be called a lot less than `get`), you should implement a better data structure which stores time stamps (maybe an **interval tree**??)"
   ]
  },
  {
   "cell_type": "code",
   "execution_count": 8,
   "id": "0d8b0ebf",
   "metadata": {},
   "outputs": [],
   "source": [
    "class TimeMap:\n",
    "\n",
    "    def __init__(self):\n",
    "        self._dict = {}\n",
    "\n",
    "    def set(self, key: str, value: str, timestamp: int) -> None:\n",
    "        if key in self._dict:\n",
    "            self._dict[key].insert(0, (timestamp, value))\n",
    "        else:\n",
    "            self._dict[key] = [(timestamp, value)]\n",
    "        \n",
    "\n",
    "    def get(self, key: str, timestamp: int) -> str:\n",
    "        if key not in self._dict:\n",
    "            return \"\"\n",
    "        \n",
    "        vals = self._dict[key]\n",
    "\n",
    "        for val in vals:\n",
    "            if timestamp >= val[0]:\n",
    "                return val[1]\n",
    "        \n",
    "        return \"\""
   ]
  }
 ],
 "metadata": {
  "kernelspec": {
   "display_name": "Python 3 (ipykernel)",
   "language": "python",
   "name": "python3"
  },
  "language_info": {
   "codemirror_mode": {
    "name": "ipython",
    "version": 3
   },
   "file_extension": ".py",
   "mimetype": "text/x-python",
   "name": "python",
   "nbconvert_exporter": "python",
   "pygments_lexer": "ipython3",
   "version": "3.8.0"
  }
 },
 "nbformat": 4,
 "nbformat_minor": 5
}
