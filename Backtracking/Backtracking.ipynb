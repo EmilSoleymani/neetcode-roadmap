{
 "cells": [
  {
   "cell_type": "markdown",
   "id": "d3677697",
   "metadata": {},
   "source": [
    "# Backtracking\n",
    "\n",
    "Solutions to Leetcode problems that use backtracking "
   ]
  },
  {
   "cell_type": "code",
   "execution_count": 1,
   "id": "6e18e948",
   "metadata": {},
   "outputs": [],
   "source": [
    "from typing import List"
   ]
  },
  {
   "cell_type": "markdown",
   "id": "a54c9285",
   "metadata": {},
   "source": [
    "# Problem One: Subsets (Medium)\n",
    "\n",
    "[Leetcode #78](https://leetcode.com/problems/subsets/)\n",
    "\n",
    "**Key concept:** We can either choose to include or not include each element. Run a DFS to visit all leaf nodes of the decision tree that implements this."
   ]
  },
  {
   "cell_type": "code",
   "execution_count": 2,
   "id": "1cc2b089",
   "metadata": {},
   "outputs": [],
   "source": [
    "def subsets(nums: List[int]) -> List[List[int]]:\n",
    "        # result and subset arrays\n",
    "        res, sub = [], []\n",
    "        def dfs(i):\n",
    "            \"\"\"\n",
    "            DFS for going through decision tree of including or not including each element. i represents value of index we are making decision on\n",
    "            \"\"\"\n",
    "            if i >= len(nums):\n",
    "                res.append(sub.copy())\n",
    "                return\n",
    "            \n",
    "            # include nums[i]\n",
    "            sub.append(nums[i])\n",
    "            dfs(i + 1)\n",
    "\n",
    "            # don't include nums[i]\n",
    "            sub.pop()\n",
    "            dfs(i + 1)\n",
    "        \n",
    "        dfs(0)\n",
    "        return res"
   ]
  },
  {
   "cell_type": "markdown",
   "id": "785a2233",
   "metadata": {},
   "source": [
    "# Problem Two: Combination Sum (Medium)\n",
    "\n",
    "[Leetcode #39](https://leetcode.com/problems/combination-sum/)\n",
    "\n",
    "Almost same as above. We are generating every possible subarray, except we only add it to result when the sum of the subarray is equal to the target. There is one added intricacy: we need to include sums where certain numbers are repeated. To achieve this, instead of just recursively calling bfs with one added value, we first calculate how many times we can add the value before we exceed the target (\\[target - sum of subarray] / current num) and add that many times, with a recursive call after each push to subarray. Also, we must pop all these instances of the current num from the subarray and perform one last call without any instances. "
   ]
  },
  {
   "cell_type": "code",
   "execution_count": 5,
   "id": "dff2b451",
   "metadata": {},
   "outputs": [],
   "source": [
    "def combinationSum(candidates: List[int], target: int) -> List[List[int]]:\n",
    "        res, sub = [], []\n",
    "\n",
    "        def dfs(i):\n",
    "            s = sum(sub)\n",
    "            if i >= len(candidates):\n",
    "                if s == target:\n",
    "                    res.append(sub.copy())\n",
    "                return\n",
    "            \n",
    "            # Include n * candidates[i] as long as it fits given current sum of subarray\n",
    "            roomToAdd = (target - s) // candidates[i]\n",
    "            for j in range(roomToAdd):\n",
    "                sub.append(candidates[i])\n",
    "                dfs(i + 1)\n",
    "            \n",
    "            # Don't include any candidates[i]\n",
    "            while candidates[i] in sub:\n",
    "                sub.pop()\n",
    "            dfs(i+1)\n",
    "\n",
    "        \n",
    "        dfs(0)\n",
    "        return res"
   ]
  },
  {
   "cell_type": "code",
   "execution_count": 4,
   "id": "7834f25b",
   "metadata": {},
   "outputs": [
    {
     "data": {
      "text/plain": [
       "[[2, 2, 3], [7]]"
      ]
     },
     "execution_count": 4,
     "metadata": {},
     "output_type": "execute_result"
    }
   ],
   "source": [
    "combinationSum([2,3,6,7], 7)"
   ]
  },
  {
   "cell_type": "markdown",
   "id": "12bd42be",
   "metadata": {},
   "source": [
    "# Problem Three: Permutations (Medium)\n",
    "\n",
    "[Leetcode #46](https://leetcode.com/problems/permutations/)\n",
    "\n",
    "* **Base case**: list length is one, just return list\n",
    "* **Recursive case**:\n",
    "    * For each number, get all permutations of the list not including the number, then add the number to each permutation. Add each of these permutations to the final answer\n"
   ]
  },
  {
   "cell_type": "code",
   "execution_count": 6,
   "id": "b3f762e3",
   "metadata": {},
   "outputs": [],
   "source": [
    "def permute(nums: List[int]) -> List[List[int]]:\n",
    "        res = []\n",
    "\n",
    "        if (len(nums) == 1):\n",
    "            return [nums[:]]\n",
    "        \n",
    "        for i in range(len(nums)):\n",
    "            n = nums.pop(0)\n",
    "            perms = permute(nums)\n",
    "\n",
    "            for perm in perms:\n",
    "                perm.append(n)\n",
    "            res.extend(perms)\n",
    "            nums.append(n)\n",
    "        \n",
    "        return res"
   ]
  },
  {
   "cell_type": "markdown",
   "id": "4cb29dde",
   "metadata": {},
   "source": [
    "# Problem Four: Subsets II (Medium)\n",
    "\n",
    "[Leetcode #90](https://leetcode.com/problems/subsets-ii/)\n",
    "\n",
    "Almost same as solution to subsets, but the duplicate numbers cause some problems. To fix this, we can sort the given array first (`O(NlogN)`, but the actual subsets algorithm is `O(N*2^N)` anyways so this doesn't matter), and then in each decision, when we decide not to include a number, instead of calling dfs on the next index, we call dfs on the next index that is a different number"
   ]
  },
  {
   "cell_type": "code",
   "execution_count": 7,
   "id": "1b84b8d9",
   "metadata": {},
   "outputs": [],
   "source": [
    "def subsetsWithDup(nums: List[int]) -> List[List[int]]:\n",
    "        nums.sort()\n",
    "        res, sub = [], []\n",
    "\n",
    "        def dfs(i):\n",
    "            if i >= len(nums):\n",
    "                res.append(sub[:])\n",
    "                return\n",
    "            \n",
    "            sub.append(nums[i])\n",
    "            dfs(i + 1)\n",
    "\n",
    "            sub.pop()\n",
    "            # Only new code: When we decide not to include nums[i], call dfs on next index that isn't equal to nums[i]\n",
    "            new = i\n",
    "            while new < len(nums) and nums[i] == nums[new]:\n",
    "                new += 1\n",
    "            dfs(new)\n",
    "\n",
    "        dfs(0)\n",
    "        return res"
   ]
  },
  {
   "cell_type": "code",
   "execution_count": 8,
   "id": "a56f983b",
   "metadata": {},
   "outputs": [
    {
     "data": {
      "text/plain": [
       "[[1, 2, 2, 3, 4, 5, 5],\n",
       " [1, 2, 2, 3, 4, 5],\n",
       " [1, 2, 2, 3, 4],\n",
       " [1, 2, 2, 3, 5, 5],\n",
       " [1, 2, 2, 3, 5],\n",
       " [1, 2, 2, 3],\n",
       " [1, 2, 2, 4, 5, 5],\n",
       " [1, 2, 2, 4, 5],\n",
       " [1, 2, 2, 4],\n",
       " [1, 2, 2, 5, 5],\n",
       " [1, 2, 2, 5],\n",
       " [1, 2, 2],\n",
       " [1, 2, 3, 4, 5, 5],\n",
       " [1, 2, 3, 4, 5],\n",
       " [1, 2, 3, 4],\n",
       " [1, 2, 3, 5, 5],\n",
       " [1, 2, 3, 5],\n",
       " [1, 2, 3],\n",
       " [1, 2, 4, 5, 5],\n",
       " [1, 2, 4, 5],\n",
       " [1, 2, 4],\n",
       " [1, 2, 5, 5],\n",
       " [1, 2, 5],\n",
       " [1, 2],\n",
       " [1, 3, 4, 5, 5],\n",
       " [1, 3, 4, 5],\n",
       " [1, 3, 4],\n",
       " [1, 3, 5, 5],\n",
       " [1, 3, 5],\n",
       " [1, 3],\n",
       " [1, 4, 5, 5],\n",
       " [1, 4, 5],\n",
       " [1, 4],\n",
       " [1, 5, 5],\n",
       " [1, 5],\n",
       " [1],\n",
       " [2, 2, 3, 4, 5, 5],\n",
       " [2, 2, 3, 4, 5],\n",
       " [2, 2, 3, 4],\n",
       " [2, 2, 3, 5, 5],\n",
       " [2, 2, 3, 5],\n",
       " [2, 2, 3],\n",
       " [2, 2, 4, 5, 5],\n",
       " [2, 2, 4, 5],\n",
       " [2, 2, 4],\n",
       " [2, 2, 5, 5],\n",
       " [2, 2, 5],\n",
       " [2, 2],\n",
       " [2, 3, 4, 5, 5],\n",
       " [2, 3, 4, 5],\n",
       " [2, 3, 4],\n",
       " [2, 3, 5, 5],\n",
       " [2, 3, 5],\n",
       " [2, 3],\n",
       " [2, 4, 5, 5],\n",
       " [2, 4, 5],\n",
       " [2, 4],\n",
       " [2, 5, 5],\n",
       " [2, 5],\n",
       " [2],\n",
       " [3, 4, 5, 5],\n",
       " [3, 4, 5],\n",
       " [3, 4],\n",
       " [3, 5, 5],\n",
       " [3, 5],\n",
       " [3],\n",
       " [4, 5, 5],\n",
       " [4, 5],\n",
       " [4],\n",
       " [5, 5],\n",
       " [5],\n",
       " []]"
      ]
     },
     "execution_count": 8,
     "metadata": {},
     "output_type": "execute_result"
    }
   ],
   "source": [
    "subsetsWithDup([1, 2, 2, 4, 3, 5, 5])"
   ]
  },
  {
   "cell_type": "markdown",
   "id": "7fd73a89",
   "metadata": {},
   "source": [
    "# Problem Five: Combination Sum II (Medium)\n",
    "\n",
    "[Leetcode #40](https://leetcode.com/problems/combination-sum-ii/)\n",
    "\n",
    "The backtrack function takes three arguments:\n",
    "* curr: the current combination\n",
    "* pos: the current index of candidates array we are making decision on\n",
    "* target: the amount left to sum up to the target\n",
    "\n",
    "We first sort the array at a cost of `O(NlogN)` which isn't much compared to problem lower bound of `O(2^N)`. The base cases are if `target == 0`, in which case we append the current combination to the result, and if `target < 0` in which case we return since we overshot the target.\n",
    "\n",
    "In the recursive case, we loop from index `pos` to the end of the `candidates` array (note that we skip duplicate values here). Append each value to the current combination and make a recursive call to backtrack with the next index and reduced target. Pop the current combination after this call returns."
   ]
  },
  {
   "cell_type": "code",
   "execution_count": 9,
   "id": "03c79561",
   "metadata": {},
   "outputs": [],
   "source": [
    "def combinationSum2(candidates: List[int], target: int) -> List[List[int]]:\n",
    "        candidates.sort()\n",
    "\n",
    "        res = []\n",
    "\n",
    "        def backtrack(curr, pos, target):\n",
    "            if target == 0:\n",
    "                res.append(curr.copy())\n",
    "            \n",
    "            if target < 0:\n",
    "                return\n",
    "            \n",
    "            prev = -1\n",
    "            for i in range(pos, len(candidates)):\n",
    "                if candidates[i] == prev:\n",
    "                    continue\n",
    "                curr.append(candidates[i])\n",
    "                backtrack(curr, i + 1, target - candidates[i])\n",
    "                curr.pop()\n",
    "                prev = candidates[i]\n",
    "        \n",
    "        backtrack([], 0, target)\n",
    "        return res"
   ]
  },
  {
   "cell_type": "code",
   "execution_count": 10,
   "id": "10215bc3",
   "metadata": {},
   "outputs": [
    {
     "data": {
      "text/plain": [
       "[[1, 1, 6], [1, 7], [2, 6]]"
      ]
     },
     "execution_count": 10,
     "metadata": {},
     "output_type": "execute_result"
    }
   ],
   "source": [
    "combinationSum2([10, 1, 2, 1, 6, 2, 7], 8)"
   ]
  },
  {
   "cell_type": "markdown",
   "id": "90ff9da9",
   "metadata": {},
   "source": [
    "# Problem Six: Word Search (Medium)\n",
    "\n",
    "[Leetcode #79](https://leetcode.com/problems/word-search/)\n",
    "\n",
    "Start a DFS at each cell. The recursive dfs function takes in 3 args: the row, the col, and the number of letters found. Base case 1: if number of letters found is length of the word, return true. Base case 2: If row or column is out of bounds, or the board at row and  column is not the next letter, or if we have used this row and col position already, return false. Else, we are in the recursive case.\n",
    "\n",
    "In the recursive case, we first add the current row and column pair to the set of values so we know it is visited. We then call the dfs function recursively on the 4 neighbouring cells. Also remove the row and column pair from path after the recursive calls. If any of the calls returned true, return true, else false."
   ]
  },
  {
   "cell_type": "code",
   "execution_count": 11,
   "id": "b5eee784",
   "metadata": {},
   "outputs": [],
   "source": [
    "def exist(board: List[List[str]], word: str) -> bool:\n",
    "        ROWS, COLS = len(board), len(board[0])\n",
    "\n",
    "        path = set()\n",
    "\n",
    "        def dfs(r, c, i) -> bool:\n",
    "            if i == len(word):\n",
    "                return True\n",
    "            \n",
    "            if r < 0 or c < 0 or r >= ROWS or c >= COLS or word[i] != board[r][c] or (r, c) in path:\n",
    "                return False\n",
    "            \n",
    "            path.add((r,c))\n",
    "            res = dfs(r + 1, c, i + 1) or  dfs(r - 1, c, i + 1) or dfs(r, c + 1, i + 1) or dfs(r, c - 1, i + 1)\n",
    "            path.remove((r, c))\n",
    "            return res\n",
    "        \n",
    "        for r in range(ROWS):\n",
    "            for c in range(COLS):\n",
    "                if dfs(r, c, 0):\n",
    "                    return True\n",
    "        \n",
    "        return False"
   ]
  },
  {
   "cell_type": "markdown",
   "id": "93c256f8",
   "metadata": {},
   "source": [
    "# Problem Seven: Palindrome Partitioning (Medium)\n",
    "\n",
    "[Leetcode #131](https://leetcode.com/problems/palindrome-partitioning/)\n",
    "\n",
    "Borrows from is palindrome function from two pointern section. Define a recursive dfs function which just takes in an index of which index we are on in the array. Once we look at the whole list, append the current partition to the result array. Else, loop from that index to the end of the list. At each index `j`, if the substring formed from originla index to `j` is a palindrome, append it to the partition array, and make a recursive call to the dfs with index `j+1`. Once the recursive functions returns, pop the partition array."
   ]
  },
  {
   "cell_type": "code",
   "execution_count": 13,
   "id": "79f76785",
   "metadata": {},
   "outputs": [],
   "source": [
    "def isPalindrome(s, l, r) -> bool:\n",
    "        while l  < r:\n",
    "            if s[l] != s[r]:\n",
    "                return False\n",
    "            l += 1\n",
    "            r -= 1\n",
    "        return True\n",
    "\n",
    "def partition(s: str) -> List[List[str]]:\n",
    "    res = []\n",
    "    part = []\n",
    "\n",
    "    def dfs(i):\n",
    "        if i >= len(s):\n",
    "            res.append(part.copy())\n",
    "            return\n",
    "\n",
    "        for j in range(i, len(s)):\n",
    "            if isPalindrome(s, i, j):\n",
    "                part.append(s[i:j+1])\n",
    "                dfs(j + 1)\n",
    "                part.pop()\n",
    "\n",
    "    dfs(0)\n",
    "    return res"
   ]
  },
  {
   "cell_type": "markdown",
   "id": "89226171",
   "metadata": {},
   "source": [
    "# Problem Eight: Letter Combinations of a Phone Number (Medium)\n",
    "\n",
    "[Leetcode #17](https://leetcode.com/problems/letter-combinations-of-a-phone-number/)\n",
    "\n",
    "Keep a dict mapping each digit to its possible letters. Create a recursive `dfs` function which takes the current index of digits we are making a decision on. If the index is greater than lenght of digit, we have completed a combination so append the current combination as a string to the result array. Else, for each letter this digit maps to, append to current combination, make a recursive call to `dfs`, then pop letter from current combination when the call returns. \n",
    "\n",
    "Begin by calling `dfs(0)` and return the resulting array"
   ]
  },
  {
   "cell_type": "code",
   "execution_count": 14,
   "id": "b4ee5572",
   "metadata": {},
   "outputs": [],
   "source": [
    "def letterCombinations(digits: str) -> List[str]:\n",
    "        if not digits:\n",
    "            return []\n",
    "        res, curr = [], []\n",
    "\n",
    "        numToLet = {'2': 'abc', '3': 'def', '4': 'ghi', '5': 'jkl', '6': 'mno', '7': 'pqrs', '8': 'tuv', '9': 'wxyz'}\n",
    "\n",
    "        def dfs(i):\n",
    "            if i >= len(digits):\n",
    "                res.append(\"\".join(curr))\n",
    "                return\n",
    "            \n",
    "            for c in numToLet[digits[i]]:\n",
    "                curr.append(c)\n",
    "                dfs(i+1)\n",
    "                curr.pop()\n",
    "        \n",
    "        dfs(0)\n",
    "        return res"
   ]
  },
  {
   "cell_type": "code",
   "execution_count": 15,
   "id": "ad1aa4ea",
   "metadata": {},
   "outputs": [
    {
     "data": {
      "text/plain": [
       "['aadw',\n",
       " 'aadx',\n",
       " 'aady',\n",
       " 'aadz',\n",
       " 'aaew',\n",
       " 'aaex',\n",
       " 'aaey',\n",
       " 'aaez',\n",
       " 'aafw',\n",
       " 'aafx',\n",
       " 'aafy',\n",
       " 'aafz',\n",
       " 'abdw',\n",
       " 'abdx',\n",
       " 'abdy',\n",
       " 'abdz',\n",
       " 'abew',\n",
       " 'abex',\n",
       " 'abey',\n",
       " 'abez',\n",
       " 'abfw',\n",
       " 'abfx',\n",
       " 'abfy',\n",
       " 'abfz',\n",
       " 'acdw',\n",
       " 'acdx',\n",
       " 'acdy',\n",
       " 'acdz',\n",
       " 'acew',\n",
       " 'acex',\n",
       " 'acey',\n",
       " 'acez',\n",
       " 'acfw',\n",
       " 'acfx',\n",
       " 'acfy',\n",
       " 'acfz',\n",
       " 'badw',\n",
       " 'badx',\n",
       " 'bady',\n",
       " 'badz',\n",
       " 'baew',\n",
       " 'baex',\n",
       " 'baey',\n",
       " 'baez',\n",
       " 'bafw',\n",
       " 'bafx',\n",
       " 'bafy',\n",
       " 'bafz',\n",
       " 'bbdw',\n",
       " 'bbdx',\n",
       " 'bbdy',\n",
       " 'bbdz',\n",
       " 'bbew',\n",
       " 'bbex',\n",
       " 'bbey',\n",
       " 'bbez',\n",
       " 'bbfw',\n",
       " 'bbfx',\n",
       " 'bbfy',\n",
       " 'bbfz',\n",
       " 'bcdw',\n",
       " 'bcdx',\n",
       " 'bcdy',\n",
       " 'bcdz',\n",
       " 'bcew',\n",
       " 'bcex',\n",
       " 'bcey',\n",
       " 'bcez',\n",
       " 'bcfw',\n",
       " 'bcfx',\n",
       " 'bcfy',\n",
       " 'bcfz',\n",
       " 'cadw',\n",
       " 'cadx',\n",
       " 'cady',\n",
       " 'cadz',\n",
       " 'caew',\n",
       " 'caex',\n",
       " 'caey',\n",
       " 'caez',\n",
       " 'cafw',\n",
       " 'cafx',\n",
       " 'cafy',\n",
       " 'cafz',\n",
       " 'cbdw',\n",
       " 'cbdx',\n",
       " 'cbdy',\n",
       " 'cbdz',\n",
       " 'cbew',\n",
       " 'cbex',\n",
       " 'cbey',\n",
       " 'cbez',\n",
       " 'cbfw',\n",
       " 'cbfx',\n",
       " 'cbfy',\n",
       " 'cbfz',\n",
       " 'ccdw',\n",
       " 'ccdx',\n",
       " 'ccdy',\n",
       " 'ccdz',\n",
       " 'ccew',\n",
       " 'ccex',\n",
       " 'ccey',\n",
       " 'ccez',\n",
       " 'ccfw',\n",
       " 'ccfx',\n",
       " 'ccfy',\n",
       " 'ccfz']"
      ]
     },
     "execution_count": 15,
     "metadata": {},
     "output_type": "execute_result"
    }
   ],
   "source": [
    "letterCombinations('2239')"
   ]
  }
 ],
 "metadata": {
  "kernelspec": {
   "display_name": "Python 3 (ipykernel)",
   "language": "python",
   "name": "python3"
  },
  "language_info": {
   "codemirror_mode": {
    "name": "ipython",
    "version": 3
   },
   "file_extension": ".py",
   "mimetype": "text/x-python",
   "name": "python",
   "nbconvert_exporter": "python",
   "pygments_lexer": "ipython3",
   "version": "3.8.0"
  }
 },
 "nbformat": 4,
 "nbformat_minor": 5
}
