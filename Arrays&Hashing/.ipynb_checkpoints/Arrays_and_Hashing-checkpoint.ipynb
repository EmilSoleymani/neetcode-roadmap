{
 "cells": [
  {
   "cell_type": "markdown",
   "id": "2f070f52",
   "metadata": {},
   "source": [
    "# Arrays and Hashing\n",
    "\n",
    "Solutions to arrays and hashing Leetcode problems"
   ]
  },
  {
   "cell_type": "code",
   "execution_count": 13,
   "id": "c07d8137",
   "metadata": {},
   "outputs": [],
   "source": [
    "from typing import List, Dict, Any\n",
    "import collections"
   ]
  },
  {
   "cell_type": "markdown",
   "id": "d7da60b4",
   "metadata": {},
   "source": [
    "# Problem One: Contains Duplicate (Easy)\n",
    "\n",
    "[Leetcode #217](https://leetcode.com/problems/contains-duplicate/)"
   ]
  },
  {
   "cell_type": "code",
   "execution_count": 2,
   "id": "a1c4f661",
   "metadata": {},
   "outputs": [],
   "source": [
    "def containsDuplicate(nums: List[int]) -> bool:\n",
    "        counts = {}\n",
    "\n",
    "        for num in nums:\n",
    "            if num in counts:\n",
    "                return True\n",
    "            counts[num] = 1\n",
    "\n",
    "        return False"
   ]
  },
  {
   "cell_type": "markdown",
   "id": "475e1003",
   "metadata": {},
   "source": [
    "# Problem Two: Valid Anagram (Easy)\n",
    "\n",
    "[Leetcode #242](https://leetcode.com/problems/valid-anagram/)"
   ]
  },
  {
   "cell_type": "code",
   "execution_count": 3,
   "id": "c1f2f731",
   "metadata": {},
   "outputs": [],
   "source": [
    "def isAnagram(s: str, t: str) -> bool:\n",
    "        countsS, countsT = {}, {}\n",
    "\n",
    "        N, M = len(s), len(t)\n",
    "\n",
    "        if not N == M:\n",
    "            return False\n",
    "\n",
    "        for i in range(N):\n",
    "            if s[i] not in countsS:\n",
    "                countsS[s[i]] = 1\n",
    "            else:\n",
    "                countsS[s[i]] += 1\n",
    "            \n",
    "            if t[i] not in countsT:\n",
    "                countsT[t[i]] = 1\n",
    "            else:\n",
    "                countsT[t[i]] += 1\n",
    "        \n",
    "        return countsT == countsS"
   ]
  },
  {
   "cell_type": "markdown",
   "id": "20eac2cf",
   "metadata": {},
   "source": [
    "# Problem Three: Two Sum (Easy)\n",
    "\n",
    "[Leetcode #1](https://leetcode.com/problems/two-sum/)\n",
    "\n",
    "> Solution using `Dict`, not two pointers"
   ]
  },
  {
   "cell_type": "code",
   "execution_count": 5,
   "id": "0b4aacb5",
   "metadata": {},
   "outputs": [],
   "source": [
    "def twoSum(nums: List[int], target: int):\n",
    "        N = len(nums)\n",
    "        \n",
    "        diffs = {}\n",
    "\n",
    "        for i in range(N):\n",
    "            s = target - nums[i]\n",
    "            if s not in diffs:\n",
    "                diffs[nums[i]] = i\n",
    "            else:\n",
    "                return [i, diffs[s]]"
   ]
  },
  {
   "cell_type": "markdown",
   "id": "2629f1f0",
   "metadata": {},
   "source": [
    "# Problem Four: Group Anagrams (Medium)\n",
    "\n",
    "[Leetcode #49](https://leetcode.com/problems/group-anagrams/)\n",
    "\n",
    "- Find anagrams by keeping counts of chars of each word. If `counts` are the same, they are anagrams.\n",
    "- Create a dictionary which uses `counts` dictionaries as the key, and stores the list of all words as the value\n",
    "- Return values of dictionary"
   ]
  },
  {
   "cell_type": "code",
   "execution_count": 11,
   "id": "77dbb810",
   "metadata": {},
   "outputs": [],
   "source": [
    "def ind(c):\n",
    "        return ord(c) - ord('a')\n",
    "\n",
    "def groupAnagrams(strs: List[str]):\n",
    "    groups = collections.defaultdict(list)  # Dict[Dict, List[str]]\n",
    "\n",
    "    for word in strs:\n",
    "        # Create counts dict for word\n",
    "        counts = [0] * 26\n",
    "        for w in word:\n",
    "            counts[ind(w)] += 1\n",
    "\n",
    "        # Add current word to groups[counts]\n",
    "        groups[tuple(counts)].append(word)\n",
    "    \n",
    "    return groups.values()"
   ]
  },
  {
   "cell_type": "code",
   "execution_count": 14,
   "id": "9757d969",
   "metadata": {},
   "outputs": [
    {
     "data": {
      "text/plain": [
       "dict_values([['eat', 'tea'], ['bat', 'tab']])"
      ]
     },
     "execution_count": 14,
     "metadata": {},
     "output_type": "execute_result"
    }
   ],
   "source": [
    "groupAnagrams([\"eat\", \"tea\", \"bat\", \"tab\"])"
   ]
  },
  {
   "cell_type": "markdown",
   "id": "dfcf493c",
   "metadata": {},
   "source": [
    "# Problem Five: Top K Frequent Elements (Medium)\n",
    "\n",
    "[Leetcode #347](https://leetcode.com/problems/top-k-frequent-elements)\n",
    "\n",
    "> Note: the optimal solution will be using max heap, but for this section we will use a modified bucket sort\n",
    "\n",
    "- Instead of storing a Dict of value -> count, we will store a dict of counts -> values. This will guarantee that the dict is bounded to size N. (`O(N)` space complexity). It will also have time complexity of `O(N)`.\n",
    "\n",
    "- Then, starting at highest count, pop `k` values. Again, worst case of `O(N)`, since you will go through at most N entries in the dict\n",
    "\n",
    "Final Complexity: `O(N)` time, `O(N)` space"
   ]
  },
  {
   "cell_type": "code",
   "execution_count": 15,
   "id": "348f81c0",
   "metadata": {},
   "outputs": [],
   "source": [
    "def topKFrequent(nums: List[int], k: int) -> List[int]:\n",
    "        counts = {}\n",
    "        freq = [[] for i in range(len(nums)+1)]\n",
    "\n",
    "        for n in nums:\n",
    "            counts[n] = 1 + counts.get(n, 0)\n",
    "        \n",
    "        for n, c in counts.items():\n",
    "            freq[c].append(n)\n",
    "        \n",
    "        mostFreq = []\n",
    "\n",
    "        for i in range(len(freq) - 1, 0, -1):\n",
    "            for n in freq[i]:\n",
    "                mostFreq.append(n)\n",
    "                if len(mostFreq) == k:\n",
    "                    return mostFreq"
   ]
  },
  {
   "cell_type": "code",
   "execution_count": 16,
   "id": "2b4eef2e",
   "metadata": {},
   "outputs": [
    {
     "data": {
      "text/plain": [
       "[1, 4, 3]"
      ]
     },
     "execution_count": 16,
     "metadata": {},
     "output_type": "execute_result"
    }
   ],
   "source": [
    "topKFrequent([1,1,1,1,2,2,3,3,3,4,4,4,4],3)"
   ]
  },
  {
   "cell_type": "markdown",
   "id": "eb6972f3",
   "metadata": {},
   "source": [
    "# Problem Six: Product of Array Except Self (Medium)\n",
    "\n",
    "[Leetcode #238](https://leetcode.com/problems/product-of-array-except-self/)\n",
    "\n",
    "The solution can be solved by keeping track of `prefix` and `postfix` arrays. `prefix[i]` is the product of all the numbers in `nums` up to `i`, and `postfix[i]` is the product of all the numbers in `nums` after `i`. Thus, the resulting array is just the product of `prefix[i-1]` and `postfix[i+1]` for each entry `i`. This is achieved in `O(N)` time complexity and `O(N)` space complexity.\n",
    "\n",
    "However, we can do better and achieve `O(1)` space complexity (The resulting array doesn't count towards space complexity) by omitting the use of the `prefix` and `postfix` arrays. In the first pass, instead of building the `prefix` array, store the values into `res`. In the second pass, instead of building a `postfix` array, multiply into existing values of `res`."
   ]
  },
  {
   "cell_type": "code",
   "execution_count": 17,
   "id": "daa1238e",
   "metadata": {},
   "outputs": [],
   "source": [
    "def productExceptSelf(nums: List[int]) -> List[int]:\n",
    "        res = [1] * len(nums)\n",
    "\n",
    "        prefix = 1\n",
    "        for i in range(len(nums)):\n",
    "            res[i] = prefix\n",
    "            prefix *= nums[i]\n",
    "        \n",
    "        postfix = 1\n",
    "        for i in range(len(nums) - 1, -1, -1):\n",
    "            res[i] *= postfix\n",
    "            postfix *= nums[i]\n",
    "        \n",
    "        return res"
   ]
  },
  {
   "cell_type": "code",
   "execution_count": 18,
   "id": "56d7e7d8",
   "metadata": {},
   "outputs": [
    {
     "data": {
      "text/plain": [
       "[24, 12, 8, 6]"
      ]
     },
     "execution_count": 18,
     "metadata": {},
     "output_type": "execute_result"
    }
   ],
   "source": [
    "productExceptSelf([1,2,3,4])"
   ]
  },
  {
   "cell_type": "markdown",
   "id": "fbcca73e",
   "metadata": {},
   "source": [
    "# Problem Seven: Valid Sudoku (Medium)\n",
    "\n",
    "[Leetcode #36](https://leetcode.com/problems/valid-sudoku)\n",
    "\n",
    "Create 3 dictionares:\n",
    "\n",
    "* `cols[int, Set]`: given col index as key store all numbers in that col\n",
    "* `rows[int, Set]`: given row index as key store all numbers in that row\n",
    "* `squares[Tuple(int, int), Set]`: given square coordinates as ordered pair as key store all numbers in that square\n",
    "    * e.g. `squares[(0,0)]` will return a Set of all values in the top left subsquare of the board"
   ]
  },
  {
   "cell_type": "code",
   "execution_count": 20,
   "id": "e49f0f43",
   "metadata": {},
   "outputs": [],
   "source": [
    "def isValidSudoku(board: List[List[str]]) -> bool:\n",
    "        cols = collections.defaultdict(set)\n",
    "        rows = collections.defaultdict(set)\n",
    "        squares = collections.defaultdict(set)\n",
    "\n",
    "        for r in range(9):\n",
    "            for c in range(9):\n",
    "                if board[r][c] == '.':\n",
    "                    continue\n",
    "                \n",
    "                if (board[r][c] in rows[r] or \n",
    "                    board[r][c] in cols[c] or\n",
    "                    board[r][c] in squares[(r//3, c//3)]):\n",
    "                    return False\n",
    "                \n",
    "                rows[r].add(board[r][c])\n",
    "                cols[c].add(board[r][c])\n",
    "                squares[(r//3, c//3)].add(board[r][c])\n",
    "        \n",
    "        return True\n"
   ]
  },
  {
   "cell_type": "code",
   "execution_count": 23,
   "id": "e078f024",
   "metadata": {},
   "outputs": [
    {
     "name": "stdout",
     "output_type": "stream",
     "text": [
      "True\n",
      "False\n"
     ]
    }
   ],
   "source": [
    "a = [[\"5\",\"3\",\".\",\".\",\"7\",\".\",\".\",\".\",\".\"],[\"6\",\".\",\".\",\"1\",\"9\",\"5\",\".\",\".\",\".\"],[\".\",\"9\",\"8\",\".\",\".\",\".\",\".\",\"6\",\".\"],[\"8\",\".\",\".\",\".\",\"6\",\".\",\".\",\".\",\"3\"],[\"4\",\".\",\".\",\"8\",\".\",\"3\",\".\",\".\",\"1\"],[\"7\",\".\",\".\",\".\",\"2\",\".\",\".\",\".\",\"6\"],[\".\",\"6\",\".\",\".\",\".\",\".\",\"2\",\"8\",\".\"],[\".\",\".\",\".\",\"4\",\"1\",\"9\",\".\",\".\",\"5\"],[\".\",\".\",\".\",\".\",\"8\",\".\",\".\",\"7\",\"9\"]]\n",
    "print(isValidSudoku(a))\n",
    "\n",
    "b = [[\"8\",\"3\",\".\",\".\",\"7\",\".\",\".\",\".\",\".\"],[\"6\",\".\",\".\",\"1\",\"9\",\"5\",\".\",\".\",\".\"],[\".\",\"9\",\"8\",\".\",\".\",\".\",\".\",\"6\",\".\"],[\"8\",\".\",\".\",\".\",\"6\",\".\",\".\",\".\",\"3\"],[\"4\",\".\",\".\",\"8\",\".\",\"3\",\".\",\".\",\"1\"],[\"7\",\".\",\".\",\".\",\"2\",\".\",\".\",\".\",\"6\"],[\".\",\"6\",\".\",\".\",\".\",\".\",\"2\",\"8\",\".\"],[\".\",\".\",\".\",\"4\",\"1\",\"9\",\".\",\".\",\"5\"],[\".\",\".\",\".\",\".\",\"8\",\".\",\".\",\"7\",\"9\"]]\n",
    "print(isValidSudoku(b))"
   ]
  },
  {
   "cell_type": "markdown",
   "id": "d8973a9c",
   "metadata": {},
   "source": [
    "# Problem 8: Encode and Decode Strings (Medium)\n",
    "\n",
    "[Leetcode #271](https://leetcode.com/problems/encode-and-decode-strings)\n",
    "\n",
    "## Basic Solution\n",
    "\n",
    "This will not work if ANY chars can be present. We will use any non printable character as a delimeter, e.g. `\\n`. As seen in the assertion error, this will not work for something like `[\"Hello\\n\", \"World\"]`"
   ]
  },
  {
   "cell_type": "code",
   "execution_count": 35,
   "id": "b7e6cb5b",
   "metadata": {},
   "outputs": [],
   "source": [
    "def encode1(strs: List[str]) -> str:\n",
    "        \"\"\"Encodes a list of strings to a single string.\n",
    "        \"\"\"\n",
    "        return \"\\n\".join(strs)\n",
    "        \n",
    "\n",
    "def decode1(s: str) -> List[str]:\n",
    "    \"\"\"Decodes a single string to a list of strings.\n",
    "    \"\"\"\n",
    "    return s.split(\"\\n\")"
   ]
  },
  {
   "cell_type": "code",
   "execution_count": 44,
   "id": "0afc30af",
   "metadata": {
    "scrolled": true
   },
   "outputs": [],
   "source": [
    "a = [\"Hello\", \"World\"]\n",
    "# b = [\"Hello\\n\", \"World\"]\n",
    "assert a == decode1(encode1(a))\n",
    "# assert b == decode1(encode1(b))  # Assertion fails"
   ]
  },
  {
   "cell_type": "markdown",
   "id": "f06a9c43",
   "metadata": {},
   "source": [
    "## Better Solution\n",
    "\n",
    "Encode by putting each words length, followed by any delimeter (e.g. `#`), then the word. Then we know exactly where each word boundary is."
   ]
  },
  {
   "cell_type": "code",
   "execution_count": 40,
   "id": "06001fe7",
   "metadata": {},
   "outputs": [],
   "source": [
    "def encode(strs: List[str]) -> str:\n",
    "        \"\"\"Encodes a list of strings to a single string.\n",
    "        \"\"\"\n",
    "        strs = [(str(len(w)) + '#') + w for w in strs]\n",
    "        return \"\".join(strs)\n",
    "        \n",
    "\n",
    "def decode(s: str) -> List[str]:\n",
    "    \"\"\"Decodes a single string to a list of strings.\n",
    "    \"\"\"\n",
    "    words = []\n",
    "    i = 0\n",
    "    while i < len(s):\n",
    "        wordLen = \"\"\n",
    "        while not s[i] == \"#\":\n",
    "            wordLen += s[i]\n",
    "            i += 1\n",
    "        wordLen = int(wordLen)\n",
    "        i += 1\n",
    "        word = ''\n",
    "        for j in range(wordLen):\n",
    "            word += s[i + j]\n",
    "        words.append(word)\n",
    "        i += wordLen\n",
    "\n",
    "    return words"
   ]
  },
  {
   "cell_type": "code",
   "execution_count": 43,
   "id": "c65f20f4",
   "metadata": {},
   "outputs": [],
   "source": [
    "a = [\"Hello\", \"World\"]\n",
    "b = [\"Hello\\n\", \"World\"]\n",
    "c = [\"Hello\\n\", \"#W#o#rld\"]\n",
    "assert a == decode(encode(a))\n",
    "assert b == decode(encode(b))  \n",
    "assert c == decode(encode(c)) "
   ]
  },
  {
   "cell_type": "markdown",
   "id": "22d34022",
   "metadata": {},
   "source": [
    "# Problem Nine: Longest Consecutive Sequence (Medium)\n",
    "\n",
    "[Leetcode #128](https://leetcode.com/problems/longest-consecutive-sequence)\n",
    "\n",
    "First, create a set of the input array, and initialize a variable `longest` to `0` which will store the longest sequence so far. For each number in this set, if the previous number does not exist, we are the start of a new sequence. Set `length` to `1`, and while the next number is in the set, increment `length` and the number. When this loop finished, update `longest` if necessary."
   ]
  },
  {
   "cell_type": "code",
   "execution_count": 45,
   "id": "de0828ed",
   "metadata": {},
   "outputs": [],
   "source": [
    "def longestConsecutive(nums: List[int]) -> int:\n",
    "        nums = set(nums)\n",
    "\n",
    "        longest = 0\n",
    "        for n in nums:\n",
    "            if n - 1 not in nums:\n",
    "                length = 1\n",
    "                while n + 1 in nums:\n",
    "                    length += 1\n",
    "                    n += 1\n",
    "                longest = max(longest, length)\n",
    "\n",
    "        return longest "
   ]
  },
  {
   "cell_type": "code",
   "execution_count": 46,
   "id": "3822ef78",
   "metadata": {},
   "outputs": [
    {
     "data": {
      "text/plain": [
       "3"
      ]
     },
     "execution_count": 46,
     "metadata": {},
     "output_type": "execute_result"
    }
   ],
   "source": [
    "longestConsecutive([1, 2, 3, 100, 200, 201])"
   ]
  }
 ],
 "metadata": {
  "kernelspec": {
   "display_name": "Python 3 (ipykernel)",
   "language": "python",
   "name": "python3"
  },
  "language_info": {
   "codemirror_mode": {
    "name": "ipython",
    "version": 3
   },
   "file_extension": ".py",
   "mimetype": "text/x-python",
   "name": "python",
   "nbconvert_exporter": "python",
   "pygments_lexer": "ipython3",
   "version": "3.8.0"
  }
 },
 "nbformat": 4,
 "nbformat_minor": 5
}
